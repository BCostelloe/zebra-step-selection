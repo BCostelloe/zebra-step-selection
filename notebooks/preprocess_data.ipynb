{
 "cells": [
  {
   "cell_type": "markdown",
   "id": "cd0d597c-f4cb-404f-877a-585e447d3b01",
   "metadata": {},
   "source": [
    "This notebook generates the dataset for the step selection model."
   ]
  },
  {
   "cell_type": "code",
   "execution_count": 6,
   "id": "0bd60b14-336e-4639-9189-60b5de0a3c15",
   "metadata": {},
   "outputs": [],
   "source": [
    "import sys\n",
    "sys.path.append('../')\n",
    "\n",
    "import numpy as np\n",
    "import pandas as pd\n",
    "import pickle\n",
    "import os\n",
    "import glob\n",
    "import utm\n",
    "from pathlib import Path\n",
    "import math\n",
    "from math import dist\n",
    "import matplotlib\n",
    "import matplotlib.pyplot as plt\n",
    "import cv2\n",
    "import pandas as pd\n",
    "from osgeo import gdal\n",
    "gdal.UseExceptions()\n",
    "\n",
    "import stepselector.preprocessing as pp"
   ]
  },
  {
   "cell_type": "code",
   "execution_count": 7,
   "id": "c2c343a8-4b79-45a7-adca-27ca37ea1963",
   "metadata": {},
   "outputs": [],
   "source": [
    "server_mount = '/home/blair/server/herd_hover'"
   ]
  },
  {
   "cell_type": "code",
   "execution_count": 8,
   "id": "e2c94680-e342-4375-8a6e-ef427a17fa8a",
   "metadata": {},
   "outputs": [],
   "source": [
    "# If obs_to_process = None, all of the raw track files in the data/raw_tracks folder will be processed\n",
    "obs_to_process = None\n",
    "\n",
    "# Alternatively, a subset of observations can be processed\n",
    "#obs_to_process = ['ob015', 'ob027', 'ob053', 'ob074', 'ob088', 'ob090']"
   ]
  },
  {
   "cell_type": "code",
   "execution_count": 9,
   "id": "dfa2357b-af08-4323-8741-dd83bbeb530f",
   "metadata": {},
   "outputs": [],
   "source": [
    "# Define directories\n",
    "data_folder = os.path.join(server_mount, 'zebra_movement_data')\n",
    "raw_tracks_directory = os.path.join(data_folder, 'raw_tracks')\n",
    "rasters_directory = os.path.join(data_folder, 'rasters')\n",
    "observed_steps_directory = os.path.join(data_folder, 'five_meter_steps', 'observed')\n",
    "simulated_steps_directory = os.path.join(data_folder, 'five_meter_steps', 'simulated')\n",
    "\n",
    "# Define files\n",
    "ob_metadata_file = os.path.join(data_folder, 'observation_metadata.csv')\n",
    "track_metadata_file = os.path.join(data_folder, 'track_metadata.csv')"
   ]
  },
  {
   "cell_type": "code",
   "execution_count": 25,
   "id": "d46ad8c2-85c6-45d8-be9e-bd6c612935cf",
   "metadata": {},
   "outputs": [
    {
     "data": {
      "application/vnd.jupyter.widget-view+json": {
       "model_id": "3bf79be3a8f9450ba1aaaa56328c9f0a",
       "version_major": 2,
       "version_minor": 0
      },
      "text/plain": [
       "  0%|          | 0/1 [00:00<?, ?it/s]"
      ]
     },
     "metadata": {},
     "output_type": "display_data"
    }
   ],
   "source": [
    "# Step 1 - extract observed steps\n",
    "pp.extract_observed_steps(step_length = 5, \n",
    "                       raw_tracks_directory = raw_tracks_directory, \n",
    "                       save_directory = observed_steps_directory,\n",
    "                       rasters_directory = rasters_directory,\n",
    "                       #ob_metadata_file = ob_metadata_file, # change to ob_metadata_file if there's risk of observed steps falling outside mapped area\n",
    "                       obs_to_process = obs_to_process)"
   ]
  },
  {
   "cell_type": "code",
   "execution_count": 26,
   "id": "7befeaec-7359-411c-9d29-d61df040f0b7",
   "metadata": {},
   "outputs": [
    {
     "data": {
      "application/vnd.jupyter.widget-view+json": {
       "model_id": "a2ef5dd5cddc4deba9cc2f007becf896",
       "version_major": 2,
       "version_minor": 0
      },
      "text/plain": [
       "  0%|          | 0/1 [00:00<?, ?it/s]"
      ]
     },
     "metadata": {},
     "output_type": "display_data"
    }
   ],
   "source": [
    "# Step 2 - simulate fake steps\n",
    "pp.simulate_fake_steps(n_steps = 20, \n",
    "                    observed_steps_directory = observed_steps_directory, \n",
    "                    save_directory = simulated_steps_directory, \n",
    "                    rasters_directory = rasters_directory, \n",
    "                    ob_metadata_file = ob_metadata_file, \n",
    "                    obs_to_process = obs_to_process)"
   ]
  },
  {
   "cell_type": "code",
   "execution_count": 27,
   "id": "430a8981-a54b-4777-a578-9a0317a16a24",
   "metadata": {},
   "outputs": [
    {
     "data": {
      "application/vnd.jupyter.widget-view+json": {
       "model_id": "ad9851e0c8244b338f811c196763379c",
       "version_major": 2,
       "version_minor": 0
      },
      "text/plain": [
       "  0%|          | 0/1 [00:00<?, ?it/s]"
      ]
     },
     "metadata": {},
     "output_type": "display_data"
    }
   ],
   "source": [
    "# Step 3 - get observer and step info\n",
    "pp.get_observer_and_step_info(observed_steps_directory = observed_steps_directory,\n",
    "                           simulated_steps_directory = simulated_steps_directory,\n",
    "                           ob_metadata_file = ob_metadata_file,\n",
    "                           obs_to_process = obs_to_process)"
   ]
  },
  {
   "cell_type": "code",
   "execution_count": 28,
   "id": "6a95b784-c77c-4b9b-9fe7-6f97e6abc0a8",
   "metadata": {},
   "outputs": [
    {
     "data": {
      "application/vnd.jupyter.widget-view+json": {
       "model_id": "a902397d2d0f47c9ae44341e89619b3d",
       "version_major": 2,
       "version_minor": 0
      },
      "text/plain": [
       "  0%|          | 0/1 [00:00<?, ?it/s]"
      ]
     },
     "metadata": {},
     "output_type": "display_data"
    }
   ],
   "source": [
    "# Step 4 - calculate zebra observation heights for visibility analyses\n",
    "pp.calculate_zebra_heights(observed_steps_directory = observed_steps_directory,\n",
    "                        simulated_steps_directory = simulated_steps_directory,\n",
    "                        rasters_directory = rasters_directory,\n",
    "                        ob_metadata_file = ob_metadata_file,\n",
    "                        obs_to_process = obs_to_process)"
   ]
  },
  {
   "cell_type": "code",
   "execution_count": 29,
   "id": "d99c7daa-207f-44bc-8d7f-920ac8b94426",
   "metadata": {},
   "outputs": [
    {
     "data": {
      "application/vnd.jupyter.widget-view+json": {
       "model_id": "02bf3bf67abb4e348eccbf59fd3d9133",
       "version_major": 2,
       "version_minor": 0
      },
      "text/plain": [
       "  0%|          | 0/1 [00:00<?, ?it/s]"
      ]
     },
     "metadata": {},
     "output_type": "display_data"
    }
   ],
   "source": [
    "# Step 5 - get road info\n",
    "pp.road_or_no(observed_steps_directory = observed_steps_directory,\n",
    "              simulated_steps_directory = simulated_steps_directory,\n",
    "              rasters_directory = rasters_directory,\n",
    "              ob_metadata_file = ob_metadata_file,\n",
    "              obs_to_process = obs_to_process)"
   ]
  },
  {
   "cell_type": "code",
   "execution_count": 30,
   "id": "a644c134-00e2-42b9-8531-c58d57443c60",
   "metadata": {},
   "outputs": [
    {
     "data": {
      "application/vnd.jupyter.widget-view+json": {
       "model_id": "3469b446a530401eae00831456134919",
       "version_major": 2,
       "version_minor": 0
      },
      "text/plain": [
       "  0%|          | 0/1 [00:00<?, ?it/s]"
      ]
     },
     "metadata": {},
     "output_type": "display_data"
    }
   ],
   "source": [
    "# Step 6 - get step slope\n",
    "pp.step_slope(observed_steps_directory = observed_steps_directory,\n",
    "           simulated_steps_directory = simulated_steps_directory,\n",
    "           rasters_directory = rasters_directory,\n",
    "           ob_metadata_file = ob_metadata_file,\n",
    "           obs_to_process = obs_to_process)"
   ]
  },
  {
   "cell_type": "code",
   "execution_count": 31,
   "id": "96c3032e-45b8-49fc-b892-82beb3a57c01",
   "metadata": {},
   "outputs": [
    {
     "data": {
      "application/vnd.jupyter.widget-view+json": {
       "model_id": "2020d86acbe4435385f00f1599912e07",
       "version_major": 2,
       "version_minor": 0
      },
      "text/plain": [
       "  0%|          | 0/1 [00:00<?, ?it/s]"
      ]
     },
     "metadata": {},
     "output_type": "display_data"
    }
   ],
   "source": [
    "# Step 7 - get social info\n",
    "pp.get_social_info(observed_steps_directory = observed_steps_directory,\n",
    "                simulated_steps_directory = simulated_steps_directory,\n",
    "                raw_tracks_directory = raw_tracks_directory,\n",
    "                rasters_directory = rasters_directory,\n",
    "                ob_metadata_file = ob_metadata_file,\n",
    "                track_metadata_file = track_metadata_file,\n",
    "                social_radius = 10,\n",
    "                obs_to_process = obs_to_process)"
   ]
  },
  {
   "cell_type": "code",
   "execution_count": 33,
   "id": "e630d0ef-cc44-471b-b7ca-326030bef097",
   "metadata": {},
   "outputs": [
    {
     "data": {
      "application/vnd.jupyter.widget-view+json": {
       "model_id": "2aca8c73f97b4badafbd90bc68063bb4",
       "version_major": 2,
       "version_minor": 0
      },
      "text/plain": [
       "  0%|          | 0/6 [00:00<?, ?it/s]"
      ]
     },
     "metadata": {},
     "output_type": "display_data"
    }
   ],
   "source": [
    "# Step 8 - get ground cover\n",
    "pp.get_ground_cover(observed_steps_directory = observed_steps_directory,\n",
    "              simulated_steps_directory = simulated_steps_directory,\n",
    "              rasters_directory = rasters_directory,\n",
    "              obs_to_process = obs_to_process)"
   ]
  },
  {
   "cell_type": "code",
   "execution_count": 10,
   "id": "9ec74b4a-960a-4943-9c42-ed3a4e0c9edf",
   "metadata": {},
   "outputs": [
    {
     "data": {
      "application/vnd.jupyter.widget-view+json": {
       "model_id": "d762ea97ace04da3b23cae0c66e52f0e",
       "version_major": 2,
       "version_minor": 0
      },
      "text/plain": [
       "  0%|          | 0/6 [00:00<?, ?it/s]"
      ]
     },
     "metadata": {},
     "output_type": "display_data"
    }
   ],
   "source": [
    "# Step 9 - get track info\n",
    "pp.get_track_info(observed_steps_directory = observed_steps_directory,\n",
    "                  simulated_steps_directory = simulated_steps_directory,\n",
    "                  track_metadata_file = track_metadata_file,\n",
    "                  obs_to_process = obs_to_process)"
   ]
  },
  {
   "cell_type": "code",
   "execution_count": null,
   "id": "51d379c4-5b14-49bc-9492-d951cc1260da",
   "metadata": {},
   "outputs": [],
   "source": []
  }
 ],
 "metadata": {
  "kernelspec": {
   "display_name": "Python (GDAL 3.9.0)",
   "language": "python",
   "name": "gdal390"
  },
  "language_info": {
   "codemirror_mode": {
    "name": "ipython",
    "version": 3
   },
   "file_extension": ".py",
   "mimetype": "text/x-python",
   "name": "python",
   "nbconvert_exporter": "python",
   "pygments_lexer": "ipython3",
   "version": "3.10.12"
  }
 },
 "nbformat": 4,
 "nbformat_minor": 5
}
