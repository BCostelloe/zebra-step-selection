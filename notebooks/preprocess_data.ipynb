{
 "cells": [
  {
   "cell_type": "markdown",
   "id": "cd0d597c-f4cb-404f-877a-585e447d3b01",
   "metadata": {},
   "source": [
    "This notebook generates the dataset for the step selection model."
   ]
  },
  {
   "cell_type": "code",
   "execution_count": 1,
   "id": "0bd60b14-336e-4639-9189-60b5de0a3c15",
   "metadata": {},
   "outputs": [],
   "source": [
    "import sys\n",
    "sys.path.append('../')\n",
    "\n",
    "import numpy as np\n",
    "import pandas as pd\n",
    "import pickle\n",
    "import os\n",
    "import glob\n",
    "import utm\n",
    "from pathlib import Path\n",
    "import math\n",
    "from math import dist\n",
    "import matplotlib\n",
    "import matplotlib.pyplot as plt\n",
    "import cv2\n",
    "import pandas as pd\n",
    "from osgeo import gdal\n",
    "gdal.UseExceptions()\n",
    "\n",
    "#from functions.data_prep import calculate_initial_compass_bearing\n",
    "import stepselector.preprocessing as pp\n",
    "#from stepselector.preprocessing import extract_observed_steps, simulate_fake_steps, dot, ang, get_observer_and_step_info, calculate_zebra_heights, road_or_no, step_slope, get_social_info"
   ]
  },
  {
   "cell_type": "code",
   "execution_count": 2,
   "id": "c2c343a8-4b79-45a7-adca-27ca37ea1963",
   "metadata": {},
   "outputs": [],
   "source": [
    "server_mount = '/home/blair/server/herd_hover'"
   ]
  },
  {
   "cell_type": "code",
   "execution_count": 3,
   "id": "e2c94680-e342-4375-8a6e-ef427a17fa8a",
   "metadata": {},
   "outputs": [],
   "source": [
    "# If obs_to_process = None, all of the raw track files in the data/raw_tracks folder will be processed\n",
    "obs_to_process = None \n",
    "\n",
    "# Alternatively, a subset of observations can be processed\n",
    "#obs_to_process = ['ob015', 'ob027', 'ob074', 'ob088']"
   ]
  },
  {
   "cell_type": "code",
   "execution_count": 4,
   "id": "dfa2357b-af08-4323-8741-dd83bbeb530f",
   "metadata": {},
   "outputs": [],
   "source": [
    "# Define directories\n",
    "data_folder = os.path.join(server_mount, 'zebra_movement_data')\n",
    "raw_tracks_directory = os.path.join(data_folder, 'raw_tracks')\n",
    "rasters_directory = os.path.join(data_folder, 'rasters')\n",
    "#map_directory = '/home/blair/server/herd_hover/3D_mapping/big_maps'\n",
    "#rasters_directory = '/home/blair/server/herd_hover/fine_scale_movement/maps'\n",
    "observed_steps_directory = os.path.join(data_folder, 'five_meter_steps', 'observed')\n",
    "simulated_steps_directory = os.path.join(data_folder, 'five_meter_steps', 'simulated')\n",
    "\n",
    "# Define files\n",
    "ob_metadata_file = os.path.join(data_folder, 'observation_metadata.csv')\n",
    "track_metadata_file = os.path.join(data_folder, 'track_metadata.csv')"
   ]
  },
  {
   "cell_type": "code",
   "execution_count": 8,
   "id": "d46ad8c2-85c6-45d8-be9e-bd6c612935cf",
   "metadata": {},
   "outputs": [
    {
     "data": {
      "application/vnd.jupyter.widget-view+json": {
       "model_id": "284bc63f537146d99ec87db270a47883",
       "version_major": 2,
       "version_minor": 0
      },
      "text/plain": [
       "  0%|          | 0/4 [00:00<?, ?it/s]"
      ]
     },
     "metadata": {},
     "output_type": "display_data"
    }
   ],
   "source": [
    "# Step 1 - extract observed steps\n",
    "pp.extract_observed_steps(step_length = 5, \n",
    "                       raw_tracks_directory = raw_tracks_directory, \n",
    "                       save_directory = observed_steps_directory, \n",
    "                       obs_to_process = obs_to_process)"
   ]
  },
  {
   "cell_type": "code",
   "execution_count": 5,
   "id": "7befeaec-7359-411c-9d29-d61df040f0b7",
   "metadata": {},
   "outputs": [
    {
     "data": {
      "application/vnd.jupyter.widget-view+json": {
       "model_id": "ecaef09f39af4ff3a4a13c4b301606cd",
       "version_major": 2,
       "version_minor": 0
      },
      "text/plain": [
       "  0%|          | 0/4 [00:00<?, ?it/s]"
      ]
     },
     "metadata": {},
     "output_type": "display_data"
    }
   ],
   "source": [
    "# Step 2 - simulate fake steps\n",
    "pp.simulate_fake_steps(n_steps = 5, \n",
    "                    observed_steps_directory = observed_steps_directory, \n",
    "                    save_directory = simulated_steps_directory, \n",
    "                    rasters_directory = rasters_directory, \n",
    "                    ob_metadata_file = ob_metadata_file, \n",
    "                    obs_to_process = obs_to_process)"
   ]
  },
  {
   "cell_type": "code",
   "execution_count": 6,
   "id": "430a8981-a54b-4777-a578-9a0317a16a24",
   "metadata": {},
   "outputs": [
    {
     "data": {
      "application/vnd.jupyter.widget-view+json": {
       "model_id": "18d14474e74d4959b12c4b20b94fd42c",
       "version_major": 2,
       "version_minor": 0
      },
      "text/plain": [
       "  0%|          | 0/4 [00:00<?, ?it/s]"
      ]
     },
     "metadata": {},
     "output_type": "display_data"
    }
   ],
   "source": [
    "# Step 3 - get observer and step info\n",
    "pp.get_observer_and_step_info(observed_steps_directory = observed_steps_directory,\n",
    "                           simulated_steps_directory = simulated_steps_directory,\n",
    "                           ob_metadata_file = ob_metadata_file,\n",
    "                           obs_to_process = obs_to_process)"
   ]
  },
  {
   "cell_type": "code",
   "execution_count": 7,
   "id": "6a95b784-c77c-4b9b-9fe7-6f97e6abc0a8",
   "metadata": {},
   "outputs": [
    {
     "data": {
      "application/vnd.jupyter.widget-view+json": {
       "model_id": "f469ed86d1e047029827d74506d05b7c",
       "version_major": 2,
       "version_minor": 0
      },
      "text/plain": [
       "  0%|          | 0/4 [00:00<?, ?it/s]"
      ]
     },
     "metadata": {},
     "output_type": "display_data"
    }
   ],
   "source": [
    "# Step 4 - calculate zebra observation heights for visibility analyses\n",
    "pp.calculate_zebra_heights(observed_steps_directory = observed_steps_directory,\n",
    "                        simulated_steps_directory = simulated_steps_directory,\n",
    "                        rasters_directory = rasters_directory,\n",
    "                        ob_metadata_file = ob_metadata_file,\n",
    "                        obs_to_process = obs_to_process)"
   ]
  },
  {
   "cell_type": "code",
   "execution_count": 8,
   "id": "d99c7daa-207f-44bc-8d7f-920ac8b94426",
   "metadata": {},
   "outputs": [
    {
     "data": {
      "application/vnd.jupyter.widget-view+json": {
       "model_id": "fd640f1960fc4792979e80e4c4063c89",
       "version_major": 2,
       "version_minor": 0
      },
      "text/plain": [
       "  0%|          | 0/4 [00:00<?, ?it/s]"
      ]
     },
     "metadata": {},
     "output_type": "display_data"
    }
   ],
   "source": [
    "# Step 5 - get road info\n",
    "pp.road_or_no(observed_steps_directory = observed_steps_directory,\n",
    "              simulated_steps_directory = simulated_steps_directory,\n",
    "              rasters_directory = rasters_directory,\n",
    "              ob_metadata_file = ob_metadata_file,\n",
    "              obs_to_process = obs_to_process)"
   ]
  },
  {
   "cell_type": "code",
   "execution_count": 9,
   "id": "a644c134-00e2-42b9-8531-c58d57443c60",
   "metadata": {},
   "outputs": [
    {
     "data": {
      "application/vnd.jupyter.widget-view+json": {
       "model_id": "8c4e3755bf2d47be88a1f17c2fbb1caa",
       "version_major": 2,
       "version_minor": 0
      },
      "text/plain": [
       "  0%|          | 0/4 [00:00<?, ?it/s]"
      ]
     },
     "metadata": {},
     "output_type": "display_data"
    }
   ],
   "source": [
    "# Step 6 - get step slope\n",
    "pp.step_slope(observed_steps_directory = observed_steps_directory,\n",
    "           simulated_steps_directory = simulated_steps_directory,\n",
    "           rasters_directory = rasters_directory,\n",
    "           ob_metadata_file = ob_metadata_file,\n",
    "           obs_to_process = obs_to_process)"
   ]
  },
  {
   "cell_type": "code",
   "execution_count": null,
   "id": "96c3032e-45b8-49fc-b892-82beb3a57c01",
   "metadata": {},
   "outputs": [],
   "source": [
    "# Step 6 - get social info\n",
    "pp.get_social_info(observed_steps_directory = observed_steps_directory,\n",
    "                simulated_steps_directory = simulated_steps_directory,\n",
    "                raw_tracks_directory = raw_tracks_directory,\n",
    "                rasters_directory = rasters_directory,\n",
    "                ob_metadata_file = ob_metadata_file,\n",
    "                track_metadata_file = track_metadata_file,\n",
    "                obs_to_process = obs_to_process)"
   ]
  },
  {
   "cell_type": "code",
   "execution_count": null,
   "id": "f9993eaf-d887-46f6-83e9-9b6a8c3db95e",
   "metadata": {},
   "outputs": [],
   "source": []
  }
 ],
 "metadata": {
  "kernelspec": {
   "display_name": "Python (GDAL 3.9.0)",
   "language": "python",
   "name": "gdal390"
  },
  "language_info": {
   "codemirror_mode": {
    "name": "ipython",
    "version": 3
   },
   "file_extension": ".py",
   "mimetype": "text/x-python",
   "name": "python",
   "nbconvert_exporter": "python",
   "pygments_lexer": "ipython3",
   "version": "3.10.12"
  }
 },
 "nbformat": 4,
 "nbformat_minor": 5
}
