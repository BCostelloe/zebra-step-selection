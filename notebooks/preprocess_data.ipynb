{
 "cells": [
  {
   "cell_type": "markdown",
   "id": "cd0d597c-f4cb-404f-877a-585e447d3b01",
   "metadata": {},
   "source": [
    "This notebook generates the dataset for the step selection model."
   ]
  },
  {
   "cell_type": "code",
   "execution_count": 1,
   "id": "0bd60b14-336e-4639-9189-60b5de0a3c15",
   "metadata": {},
   "outputs": [
    {
     "name": "stderr",
     "output_type": "stream",
     "text": [
      "/home/blair/.local/lib/python3.10/site-packages/matplotlib/projections/__init__.py:63: UserWarning: Unable to import Axes3D. This may be due to multiple versions of Matplotlib being installed (e.g. as a system package and as a pip package). As a result, the 3D projection is not available.\n",
      "  warnings.warn(\"Unable to import Axes3D. This may be due to multiple versions of \"\n"
     ]
    }
   ],
   "source": [
    "import sys\n",
    "sys.path.append('../')\n",
    "\n",
    "import numpy as np\n",
    "import pandas as pd\n",
    "import pickle\n",
    "import os\n",
    "import glob\n",
    "import utm\n",
    "from pathlib import Path\n",
    "import math\n",
    "from math import dist\n",
    "import matplotlib\n",
    "import matplotlib.pyplot as plt\n",
    "import cv2\n",
    "import pandas as pd\n",
    "from osgeo import gdal\n",
    "import n2w\n",
    "gdal.UseExceptions()\n",
    "\n",
    "import stepselector.preprocessing as pp"
   ]
  },
  {
   "cell_type": "code",
   "execution_count": 2,
   "id": "c2c343a8-4b79-45a7-adca-27ca37ea1963",
   "metadata": {},
   "outputs": [],
   "source": [
    "server_mount = '/home/blair/server/herd_hover'"
   ]
  },
  {
   "cell_type": "code",
   "execution_count": 3,
   "id": "e2c94680-e342-4375-8a6e-ef427a17fa8a",
   "metadata": {},
   "outputs": [],
   "source": [
    "# If obs_to_process = None, all of the raw track files in the data/raw_tracks folder will be processed\n",
    "obs_to_process = ['ob015']\n",
    "\n",
    "# Alternatively, a subset of observations can be processed\n",
    "#obs_to_process = ['ob015', 'ob027', 'ob036', 'ob053', 'ob074', 'ob088', 'ob090']\n",
    "\n",
    "# What step length to use?\n",
    "step_length = 5\n",
    "offsets = list(range(0, step_length))\n",
    "dataset = n2w.convert(step_length) + '_meter_steps'"
   ]
  },
  {
   "cell_type": "code",
   "execution_count": 4,
   "id": "a58f6ec8-32a9-497f-ad6a-5b25f0866f3c",
   "metadata": {},
   "outputs": [],
   "source": [
    "# Define directories\n",
    "data_folder = os.path.join(server_mount, 'zebra_movement_data')\n",
    "raw_tracks_directory = os.path.join(data_folder, 'raw_tracks')\n",
    "dense_tracks_directory = os.path.join(data_folder, 'dense_tracks')\n",
    "rasters_directory = os.path.join(data_folder, 'rasters')\n",
    "observed_steps_directory = os.path.join(data_folder, dataset, 'observed')\n",
    "simulated_steps_directory = os.path.join(data_folder, dataset, 'simulated')\n",
    "viewshed_save_directory = os.path.join(data_folder, 'visual_fields', dataset)\n",
    "map_directory = os.path.join(server_mount, '3D_mapping/big_maps')\n",
    "\n",
    "# Define files\n",
    "ob_metadata_file = os.path.join(data_folder, 'observation_metadata.csv')\n",
    "track_metadata_file = os.path.join(data_folder, 'track_metadata.csv')"
   ]
  },
  {
   "cell_type": "code",
   "execution_count": null,
   "id": "19a49093-6f9d-4a26-9809-bf96c2731d31",
   "metadata": {},
   "outputs": [],
   "source": [
    "# Step 1 - interpolate tracks\n",
    "pp.interpolate_raw_tracks(raw_tracks_directory = raw_tracks_directory,\n",
    "                          save_directory = dense_tracks_directory,\n",
    "                          tolerance = 0.01,\n",
    "                          obs_to_process = obs_to_process)"
   ]
  },
  {
   "cell_type": "code",
   "execution_count": null,
   "id": "d46ad8c2-85c6-45d8-be9e-bd6c612935cf",
   "metadata": {},
   "outputs": [],
   "source": [
    "# Step 2 - extract observed steps\n",
    "pp.extract_observed_steps(step_length = step_length, \n",
    "                          offsets = offsets,\n",
    "                          dense_tracks_directory = dense_tracks_directory,\n",
    "                          save_directory = observed_steps_directory,\n",
    "                          rasters_directory = rasters_directory,\n",
    "                          ob_metadata_file = ob_metadata_file, # change to ob_metadata_file if there's risk of observed steps falling outside mapped area\n",
    "                          obs_to_process = obs_to_process)"
   ]
  },
  {
   "cell_type": "code",
   "execution_count": null,
   "id": "7befeaec-7359-411c-9d29-d61df040f0b7",
   "metadata": {},
   "outputs": [],
   "source": [
    "# Step 3 - simulate fake steps\n",
    "pp.simulate_fake_steps(n_steps = 20, \n",
    "                    observed_steps_directory = observed_steps_directory, \n",
    "                    save_directory = simulated_steps_directory, \n",
    "                    rasters_directory = rasters_directory, \n",
    "                    ob_metadata_file = ob_metadata_file, \n",
    "                    obs_to_process = obs_to_process)"
   ]
  },
  {
   "cell_type": "code",
   "execution_count": null,
   "id": "430a8981-a54b-4777-a578-9a0317a16a24",
   "metadata": {},
   "outputs": [],
   "source": [
    "# Step 4 - get observer and step info\n",
    "pp.get_observer_and_step_info(observed_steps_directory = observed_steps_directory,\n",
    "                           simulated_steps_directory = simulated_steps_directory,\n",
    "                           ob_metadata_file = ob_metadata_file,\n",
    "                           obs_to_process = obs_to_process)"
   ]
  },
  {
   "cell_type": "code",
   "execution_count": null,
   "id": "6a95b784-c77c-4b9b-9fe7-6f97e6abc0a8",
   "metadata": {},
   "outputs": [],
   "source": [
    "# Step 5 - calculate zebra observation heights for visibility analyses\n",
    "pp.calculate_zebra_heights(observed_steps_directory = observed_steps_directory,\n",
    "                        simulated_steps_directory = simulated_steps_directory,\n",
    "                        rasters_directory = rasters_directory,\n",
    "                        ob_metadata_file = ob_metadata_file,\n",
    "                        obs_to_process = obs_to_process)"
   ]
  },
  {
   "cell_type": "code",
   "execution_count": null,
   "id": "a644c134-00e2-42b9-8531-c58d57443c60",
   "metadata": {},
   "outputs": [],
   "source": [
    "# Step 6 - get step slope\n",
    "pp.step_slope(observed_steps_directory = observed_steps_directory,\n",
    "           simulated_steps_directory = simulated_steps_directory,\n",
    "           rasters_directory = rasters_directory,\n",
    "           ob_metadata_file = ob_metadata_file,\n",
    "           obs_to_process = obs_to_process)"
   ]
  },
  {
   "cell_type": "code",
   "execution_count": null,
   "id": "96c3032e-45b8-49fc-b892-82beb3a57c01",
   "metadata": {},
   "outputs": [],
   "source": [
    "# Step 7 - get social info\n",
    "pp.get_social_info(observed_steps_directory = observed_steps_directory,\n",
    "                simulated_steps_directory = simulated_steps_directory,\n",
    "                raw_tracks_directory = raw_tracks_directory,\n",
    "                rasters_directory = rasters_directory,\n",
    "                ob_metadata_file = ob_metadata_file,\n",
    "                track_metadata_file = track_metadata_file,\n",
    "                social_radius = 10,\n",
    "                obs_to_process = obs_to_process)"
   ]
  },
  {
   "cell_type": "code",
   "execution_count": null,
   "id": "e630d0ef-cc44-471b-b7ca-326030bef097",
   "metadata": {},
   "outputs": [],
   "source": [
    "# Step 8 - get ground cover & road\n",
    "pp.get_ground_cover(observed_steps_directory = observed_steps_directory,\n",
    "              simulated_steps_directory = simulated_steps_directory,\n",
    "              rasters_directory = rasters_directory,\n",
    "              obs_to_process = obs_to_process)"
   ]
  },
  {
   "cell_type": "code",
   "execution_count": null,
   "id": "9ec74b4a-960a-4943-9c42-ed3a4e0c9edf",
   "metadata": {},
   "outputs": [],
   "source": [
    "# Step 9 - get track info\n",
    "pp.get_track_info(observed_steps_directory = observed_steps_directory,\n",
    "                  simulated_steps_directory = simulated_steps_directory,\n",
    "                  track_metadata_file = track_metadata_file,\n",
    "                  obs_to_process = obs_to_process)"
   ]
  },
  {
   "cell_type": "code",
   "execution_count": 11,
   "id": "51d379c4-5b14-49bc-9492-d951cc1260da",
   "metadata": {},
   "outputs": [
    {
     "data": {
      "application/vnd.jupyter.widget-view+json": {
       "model_id": "93ed9bcd9f5d409ebd9535f9f830e615",
       "version_major": 2,
       "version_minor": 0
      },
      "text/plain": [
       "  0%|          | 0/7 [00:00<?, ?it/s]"
      ]
     },
     "metadata": {},
     "output_type": "display_data"
    },
    {
     "name": "stdout",
     "output_type": "stream",
     "text": [
      "observed/ob015_track00_5msteps_0moffset.pkl completed. File processing time:  0:02:56.266970\n",
      "observed/ob015_track00_5msteps_1moffset.pkl completed. File processing time:  0:02:34.746446\n",
      "observed/ob015_track00_5msteps_2moffset.pkl completed. File processing time:  0:02:34.720451\n",
      "observed/ob015_track00_5msteps_3moffset.pkl completed. File processing time:  0:02:35.192546\n",
      "observed/ob015_track00_5msteps_4moffset.pkl completed. File processing time:  0:02:35.135276\n",
      "observed/ob015_track01_5msteps_0moffset.pkl completed. File processing time:  0:01:19.787019\n",
      "observed/ob015_track01_5msteps_1moffset.pkl completed. File processing time:  0:01:19.551506\n",
      "observed/ob015_track01_5msteps_2moffset.pkl completed. File processing time:  0:01:19.732997\n",
      "observed/ob015_track01_5msteps_3moffset.pkl completed. File processing time:  0:01:19.589916\n",
      "observed/ob015_track01_5msteps_4moffset.pkl completed. File processing time:  0:01:18.579986\n",
      "observed/ob015_track02_5msteps_0moffset.pkl completed. File processing time:  0:00:39.794825\n",
      "observed/ob015_track02_5msteps_1moffset.pkl completed. File processing time:  0:00:39.823638\n",
      "observed/ob015_track02_5msteps_2moffset.pkl completed. File processing time:  0:00:39.779369\n",
      "observed/ob015_track02_5msteps_3moffset.pkl completed. File processing time:  0:00:38.713649\n",
      "observed/ob015_track02_5msteps_4moffset.pkl completed. File processing time:  0:00:38.598947\n",
      "observed/ob015_track03_5msteps_0moffset.pkl completed. File processing time:  0:00:38.457614\n",
      "observed/ob015_track03_5msteps_1moffset.pkl completed. File processing time:  0:00:36.203178\n",
      "observed/ob015_track03_5msteps_2moffset.pkl completed. File processing time:  0:00:34.998292\n",
      "observed/ob015_track03_5msteps_3moffset.pkl completed. File processing time:  0:00:34.997797\n",
      "observed/ob015_track03_5msteps_4moffset.pkl completed. File processing time:  0:00:35.088271\n",
      "observed/ob015_track04_5msteps_0moffset.pkl completed. File processing time:  0:02:38.624340\n",
      "observed/ob015_track04_5msteps_1moffset.pkl completed. File processing time:  0:02:38.529232\n",
      "observed/ob015_track04_5msteps_2moffset.pkl completed. File processing time:  0:02:37.499264\n",
      "observed/ob015_track04_5msteps_3moffset.pkl completed. File processing time:  0:01:12.875705\n",
      "observed/ob015_track04_5msteps_4moffset.pkl completed. File processing time:  0:02:38.458558\n",
      "observed/ob015_track05_5msteps_0moffset.pkl completed. File processing time:  0:00:27.253101\n",
      "observed/ob015_track05_5msteps_1moffset.pkl completed. File processing time:  0:00:27.064663\n",
      "observed/ob015_track05_5msteps_2moffset.pkl completed. File processing time:  0:00:27.116987\n",
      "observed/ob015_track05_5msteps_3moffset.pkl completed. File processing time:  0:00:27.276888\n",
      "observed/ob015_track05_5msteps_4moffset.pkl completed. File processing time:  0:00:26.163232\n",
      "observed/ob015_track06_5msteps_0moffset.pkl completed. File processing time:  0:00:42.088690\n",
      "observed/ob015_track06_5msteps_1moffset.pkl completed. File processing time:  0:00:42.054207\n",
      "observed/ob015_track06_5msteps_2moffset.pkl completed. File processing time:  0:00:41.920720\n",
      "observed/ob015_track06_5msteps_3moffset.pkl completed. File processing time:  0:00:39.734548\n",
      "observed/ob015_track06_5msteps_4moffset.pkl completed. File processing time:  0:00:40.755419\n",
      "observed/ob015_track07_5msteps_0moffset.pkl completed. File processing time:  0:02:17.757182\n",
      "observed/ob015_track07_5msteps_1moffset.pkl completed. File processing time:  0:02:17.911649\n",
      "observed/ob015_track07_5msteps_2moffset.pkl completed. File processing time:  0:02:17.905004\n",
      "observed/ob015_track07_5msteps_3moffset.pkl completed. File processing time:  0:02:17.197832\n",
      "observed/ob015_track07_5msteps_4moffset.pkl completed. File processing time:  0:01:22.950104\n",
      "observed/ob015_track08_5msteps_0moffset.pkl completed. File processing time:  0:00:41.046886\n",
      "observed/ob015_track08_5msteps_1moffset.pkl completed. File processing time:  0:00:40.758107\n",
      "observed/ob015_track08_5msteps_2moffset.pkl completed. File processing time:  0:00:40.679659\n",
      "observed/ob015_track08_5msteps_3moffset.pkl completed. File processing time:  0:00:39.550387\n",
      "observed/ob015_track08_5msteps_4moffset.pkl completed. File processing time:  0:00:39.496128\n",
      "observed/ob015_track09_5msteps_0moffset.pkl completed. File processing time:  0:02:52.356804\n",
      "observed/ob015_track09_5msteps_1moffset.pkl completed. File processing time:  0:01:30.137860\n",
      "observed/ob015_track09_5msteps_2moffset.pkl completed. File processing time:  0:00:35.397741\n",
      "observed/ob015_track09_5msteps_3moffset.pkl completed. File processing time:  0:00:40.182156\n",
      "observed/ob015_track09_5msteps_4moffset.pkl completed. File processing time:  0:00:39.943343\n",
      "observed/ob015_track11_5msteps_0moffset.pkl completed. File processing time:  0:00:27.162018\n",
      "observed/ob015_track11_5msteps_1moffset.pkl completed. File processing time:  0:00:27.182821\n",
      "observed/ob015_track11_5msteps_2moffset.pkl completed. File processing time:  0:00:26.040340\n",
      "observed/ob015_track11_5msteps_3moffset.pkl completed. File processing time:  0:00:26.043883\n",
      "observed/ob015_track11_5msteps_4moffset.pkl completed. File processing time:  0:00:25.929960\n",
      "observed/ob015_track12_5msteps_0moffset.pkl completed. File processing time:  0:00:21.579239\n",
      "observed/ob015_track12_5msteps_1moffset.pkl completed. File processing time:  0:00:21.508533\n",
      "observed/ob015_track12_5msteps_2moffset.pkl completed. File processing time:  0:00:21.577018\n",
      "observed/ob015_track12_5msteps_3moffset.pkl completed. File processing time:  0:00:21.567530\n",
      "observed/ob015_track12_5msteps_4moffset.pkl completed. File processing time:  0:00:21.600222\n",
      "simulated/ob015_track00_5msteps_0moffset_sim.pkl completed. File processing time:  0:51:30.958651\n",
      "simulated/ob015_track00_5msteps_1moffset_sim.pkl completed. File processing time:  0:51:42.820926\n",
      "simulated/ob015_track00_5msteps_2moffset_sim.pkl completed. File processing time:  0:51:55.923725\n",
      "simulated/ob015_track00_5msteps_3moffset_sim.pkl completed. File processing time:  0:52:09.755090\n",
      "simulated/ob015_track00_5msteps_4moffset_sim.pkl completed. File processing time:  0:52:13.042548\n",
      "simulated/ob015_track01_5msteps_0moffset_sim.pkl completed. File processing time:  0:26:08.516069\n",
      "simulated/ob015_track01_5msteps_1moffset_sim.pkl completed. File processing time:  0:26:08.362079\n",
      "simulated/ob015_track01_5msteps_2moffset_sim.pkl completed. File processing time:  0:26:10.812391\n",
      "simulated/ob015_track01_5msteps_3moffset_sim.pkl completed. File processing time:  0:26:13.087101\n",
      "simulated/ob015_track01_5msteps_4moffset_sim.pkl completed. File processing time:  0:25:54.467243\n",
      "simulated/ob015_track02_5msteps_0moffset_sim.pkl completed. File processing time:  0:12:52.027997\n",
      "simulated/ob015_track02_5msteps_1moffset_sim.pkl completed. File processing time:  0:12:52.876991\n",
      "simulated/ob015_track02_5msteps_2moffset_sim.pkl completed. File processing time:  0:12:53.265378\n",
      "simulated/ob015_track02_5msteps_3moffset_sim.pkl completed. File processing time:  0:12:30.509312\n",
      "simulated/ob015_track02_5msteps_4moffset_sim.pkl completed. File processing time:  0:12:30.875219\n",
      "simulated/ob015_track03_5msteps_0moffset_sim.pkl completed. File processing time:  0:11:41.239601\n",
      "simulated/ob015_track03_5msteps_1moffset_sim.pkl completed. File processing time:  0:11:41.518912\n",
      "simulated/ob015_track03_5msteps_2moffset_sim.pkl completed. File processing time:  0:11:19.522989\n",
      "simulated/ob015_track03_5msteps_3moffset_sim.pkl completed. File processing time:  0:11:19.834934\n",
      "simulated/ob015_track03_5msteps_4moffset_sim.pkl completed. File processing time:  0:11:20.530899\n",
      "simulated/ob015_track04_5msteps_0moffset_sim.pkl completed. File processing time:  0:52:33.739032\n",
      "simulated/ob015_track04_5msteps_1moffset_sim.pkl completed. File processing time:  0:52:50.162043\n",
      "simulated/ob015_track04_5msteps_2moffset_sim.pkl completed. File processing time:  0:52:39.360910\n",
      "simulated/ob015_track04_5msteps_3moffset_sim.pkl completed. File processing time:  0:24:19.404504\n",
      "simulated/ob015_track04_5msteps_4moffset_sim.pkl completed. File processing time:  0:53:17.184552\n",
      "simulated/ob015_track05_5msteps_0moffset_sim.pkl completed. File processing time:  0:08:40.171585\n",
      "simulated/ob015_track05_5msteps_1moffset_sim.pkl completed. File processing time:  0:08:40.518269\n",
      "simulated/ob015_track05_5msteps_2moffset_sim.pkl completed. File processing time:  0:08:41.187690\n",
      "simulated/ob015_track05_5msteps_3moffset_sim.pkl completed. File processing time:  0:08:41.254139\n",
      "simulated/ob015_track05_5msteps_4moffset_sim.pkl completed. File processing time:  0:08:18.766082\n",
      "simulated/ob015_track06_5msteps_0moffset_sim.pkl completed. File processing time:  0:13:36.728455\n",
      "simulated/ob015_track06_5msteps_1moffset_sim.pkl completed. File processing time:  0:13:36.442563\n",
      "simulated/ob015_track06_5msteps_2moffset_sim.pkl completed. File processing time:  0:13:37.869858\n",
      "simulated/ob015_track06_5msteps_3moffset_sim.pkl completed. File processing time:  0:12:52.133615\n",
      "simulated/ob015_track06_5msteps_4moffset_sim.pkl completed. File processing time:  0:13:15.127115\n",
      "simulated/ob015_track07_5msteps_0moffset_sim.pkl completed. File processing time:  0:45:37.615891\n",
      "simulated/ob015_track07_5msteps_1moffset_sim.pkl completed. File processing time:  0:45:48.513289\n",
      "simulated/ob015_track07_5msteps_2moffset_sim.pkl completed. File processing time:  0:46:01.633414\n",
      "simulated/ob015_track07_5msteps_3moffset_sim.pkl completed. File processing time:  0:45:48.560027\n",
      "simulated/ob015_track07_5msteps_4moffset_sim.pkl completed. File processing time:  0:27:41.308819\n",
      "simulated/ob015_track08_5msteps_0moffset_sim.pkl completed. File processing time:  0:13:11.361840\n",
      "simulated/ob015_track08_5msteps_1moffset_sim.pkl completed. File processing time:  0:13:12.717593\n",
      "simulated/ob015_track08_5msteps_2moffset_sim.pkl completed. File processing time:  0:13:14.081810\n",
      "simulated/ob015_track08_5msteps_3moffset_sim.pkl completed. File processing time:  0:12:51.116369\n",
      "simulated/ob015_track08_5msteps_4moffset_sim.pkl completed. File processing time:  0:12:50.799156\n",
      "simulated/ob015_track09_5msteps_0moffset_sim.pkl completed. File processing time:  0:57:05.914215\n",
      "simulated/ob015_track09_5msteps_1moffset_sim.pkl completed. File processing time:  0:29:47.697898\n",
      "simulated/ob015_track09_5msteps_2moffset_sim.pkl completed. File processing time:  0:11:32.143377\n",
      "simulated/ob015_track09_5msteps_3moffset_sim.pkl completed. File processing time:  0:13:04.111800\n",
      "simulated/ob015_track09_5msteps_4moffset_sim.pkl completed. File processing time:  0:13:03.192479\n",
      "simulated/ob015_track11_5msteps_0moffset_sim.pkl completed. File processing time:  0:08:40.389650\n",
      "simulated/ob015_track11_5msteps_1moffset_sim.pkl completed. File processing time:  0:08:41.088074\n",
      "simulated/ob015_track11_5msteps_2moffset_sim.pkl completed. File processing time:  0:08:18.971029\n",
      "simulated/ob015_track11_5msteps_3moffset_sim.pkl completed. File processing time:  0:08:18.836723\n",
      "simulated/ob015_track11_5msteps_4moffset_sim.pkl completed. File processing time:  0:08:18.912000\n",
      "simulated/ob015_track12_5msteps_0moffset_sim.pkl completed. File processing time:  0:06:47.627622\n",
      "simulated/ob015_track12_5msteps_1moffset_sim.pkl completed. File processing time:  0:06:47.101661\n",
      "simulated/ob015_track12_5msteps_2moffset_sim.pkl completed. File processing time:  0:06:50.704884\n",
      "simulated/ob015_track12_5msteps_3moffset_sim.pkl completed. File processing time:  0:06:53.604039\n",
      "simulated/ob015_track12_5msteps_4moffset_sim.pkl completed. File processing time:  0:06:53.343895\n",
      "observed/ob027_track00_5msteps_0moffset.pkl completed. File processing time:  0:03:02.145929\n"
     ]
    },
    {
     "ename": "KeyboardInterrupt",
     "evalue": "",
     "output_type": "error",
     "traceback": [
      "\u001b[0;31m---------------------------------------------------------------------------\u001b[0m",
      "\u001b[0;31mKeyboardInterrupt\u001b[0m                         Traceback (most recent call last)",
      "Cell \u001b[0;32mIn[11], line 2\u001b[0m\n\u001b[1;32m      1\u001b[0m \u001b[38;5;66;03m# Step 10 - generate viewsheds\u001b[39;00m\n\u001b[0;32m----> 2\u001b[0m \u001b[43mpp\u001b[49m\u001b[38;5;241;43m.\u001b[39;49m\u001b[43mpreprocess_viewsheds\u001b[49m\u001b[43m(\u001b[49m\u001b[43mobserved_steps_directory\u001b[49m\u001b[43m \u001b[49m\u001b[38;5;241;43m=\u001b[39;49m\u001b[43m \u001b[49m\u001b[43mobserved_steps_directory\u001b[49m\u001b[43m,\u001b[49m\n\u001b[1;32m      3\u001b[0m \u001b[43m                  \u001b[49m\u001b[43msimulated_steps_directory\u001b[49m\u001b[43m \u001b[49m\u001b[38;5;241;43m=\u001b[39;49m\u001b[43m \u001b[49m\u001b[43msimulated_steps_directory\u001b[49m\u001b[43m,\u001b[49m\n\u001b[1;32m      4\u001b[0m \u001b[43m                  \u001b[49m\u001b[43mob_metadata_file\u001b[49m\u001b[43m \u001b[49m\u001b[38;5;241;43m=\u001b[39;49m\u001b[43m \u001b[49m\u001b[43mob_metadata_file\u001b[49m\u001b[43m,\u001b[49m\n\u001b[1;32m      5\u001b[0m \u001b[43m                  \u001b[49m\u001b[43mobs_to_process\u001b[49m\u001b[43m \u001b[49m\u001b[38;5;241;43m=\u001b[39;49m\u001b[43m \u001b[49m\u001b[43mobs_to_process\u001b[49m\u001b[43m,\u001b[49m\n\u001b[1;32m      6\u001b[0m \u001b[43m                  \u001b[49m\u001b[43mmap_directory\u001b[49m\u001b[43m \u001b[49m\u001b[38;5;241;43m=\u001b[39;49m\u001b[43m \u001b[49m\u001b[43mmap_directory\u001b[49m\u001b[43m,\u001b[49m\n\u001b[1;32m      7\u001b[0m \u001b[43m                  \u001b[49m\u001b[43mviewshed_save_directory\u001b[49m\u001b[43m \u001b[49m\u001b[38;5;241;43m=\u001b[39;49m\u001b[43m \u001b[49m\u001b[43mviewshed_save_directory\u001b[49m\u001b[43m,\u001b[49m\n\u001b[1;32m      8\u001b[0m \u001b[43m                  \u001b[49m\u001b[43mkeep_rasters\u001b[49m\u001b[43m \u001b[49m\u001b[38;5;241;43m=\u001b[39;49m\u001b[43m \u001b[49m\u001b[38;5;28;43;01mTrue\u001b[39;49;00m\u001b[43m,\u001b[49m\n\u001b[1;32m      9\u001b[0m \u001b[43m                  \u001b[49m\u001b[43mradius\u001b[49m\u001b[43m \u001b[49m\u001b[38;5;241;43m=\u001b[39;49m\u001b[43m \u001b[49m\u001b[38;5;241;43m30\u001b[39;49m\u001b[43m,\u001b[49m\u001b[43m \u001b[49m\u001b[38;5;66;43;03m# viewshed radius in meters\u001b[39;49;00m\n\u001b[1;32m     10\u001b[0m \u001b[43m                  \u001b[49m\u001b[43mthreads\u001b[49m\u001b[43m \u001b[49m\u001b[38;5;241;43m=\u001b[39;49m\u001b[43m \u001b[49m\u001b[38;5;241;43m15\u001b[39;49m\u001b[43m)\u001b[49m \u001b[38;5;66;03m# how many threads to use to generate viewsheds\u001b[39;00m\n",
      "File \u001b[0;32m~/fine-scale-movement/notebooks/../stepselector1/preprocessing.py:1314\u001b[0m, in \u001b[0;36mpreprocess_viewsheds\u001b[0;34m(observed_steps_directory, simulated_steps_directory, viewshed_save_directory, ob_metadata_file, radius, threads, map_directory, obs_to_process, keep_rasters)\u001b[0m\n\u001b[1;32m   1312\u001b[0m         \u001b[38;5;28;01mcontinue\u001b[39;00m\n\u001b[1;32m   1313\u001b[0m     \u001b[38;5;28;01melse\u001b[39;00m:\n\u001b[0;32m-> 1314\u001b[0m         \u001b[43mgenerate_viewshed\u001b[49m\u001b[43m(\u001b[49m\u001b[43mdsm_file\u001b[49m\u001b[43m,\u001b[49m\u001b[43m \u001b[49m\u001b[43mXs\u001b[49m\u001b[43m[\u001b[49m\u001b[43mi\u001b[49m\u001b[43m]\u001b[49m\u001b[43m,\u001b[49m\u001b[43m \u001b[49m\u001b[43mYs\u001b[49m\u001b[43m[\u001b[49m\u001b[43mi\u001b[49m\u001b[43m]\u001b[49m\u001b[43m,\u001b[49m\u001b[43m \u001b[49m\u001b[43mheight\u001b[49m\u001b[43m[\u001b[49m\u001b[43mi\u001b[49m\u001b[43m]\u001b[49m\u001b[43m,\u001b[49m\u001b[43m \u001b[49m\u001b[43mtargetRasterName\u001b[49m\u001b[43m,\u001b[49m\u001b[43m \u001b[49m\u001b[43mradius\u001b[49m\u001b[43m,\u001b[49m\u001b[43m \u001b[49m\u001b[43mthreads\u001b[49m\u001b[43m)\u001b[49m\n\u001b[1;32m   1315\u001b[0m \u001b[38;5;28;01melse\u001b[39;00m:\n\u001b[1;32m   1316\u001b[0m     targetRasterName \u001b[38;5;241m=\u001b[39m os\u001b[38;5;241m.\u001b[39mpath\u001b[38;5;241m.\u001b[39mjoin(viewshed_save_directory, \u001b[38;5;124m'\u001b[39m\u001b[38;5;124mtemp_raster.tif\u001b[39m\u001b[38;5;124m'\u001b[39m)\n",
      "File \u001b[0;32m~/fine-scale-movement/notebooks/../stepselector1/preprocessing.py:1232\u001b[0m, in \u001b[0;36mgenerate_viewshed\u001b[0;34m(dsm_file, X, Y, height, targetRasterName, radius, threads)\u001b[0m\n\u001b[1;32m   1229\u001b[0m srcBand \u001b[38;5;241m=\u001b[39m src_ds\u001b[38;5;241m.\u001b[39mGetRasterBand(\u001b[38;5;241m1\u001b[39m)\n\u001b[1;32m   1230\u001b[0m c_options \u001b[38;5;241m=\u001b[39m [\u001b[38;5;124m'\u001b[39m\u001b[38;5;124mNUM_THREADS=\u001b[39m\u001b[38;5;132;01m%i\u001b[39;00m\u001b[38;5;124m'\u001b[39m \u001b[38;5;241m%\u001b[39mthreads, \u001b[38;5;124m'\u001b[39m\u001b[38;5;124mCOMPRESS=PACKBITS\u001b[39m\u001b[38;5;124m'\u001b[39m]\n\u001b[0;32m-> 1232\u001b[0m \u001b[43mgdal\u001b[49m\u001b[38;5;241;43m.\u001b[39;49m\u001b[43mViewshedGenerate\u001b[49m\u001b[43m(\u001b[49m\n\u001b[1;32m   1233\u001b[0m \u001b[43m    \u001b[49m\u001b[43msrcBand\u001b[49m\u001b[38;5;241;43m=\u001b[39;49m\u001b[43msrcBand\u001b[49m\u001b[43m,\u001b[49m\n\u001b[1;32m   1234\u001b[0m \u001b[43m    \u001b[49m\u001b[43mdriverName\u001b[49m\u001b[38;5;241;43m=\u001b[39;49m\u001b[38;5;124;43m\"\u001b[39;49m\u001b[38;5;124;43mGTIFF\u001b[39;49m\u001b[38;5;124;43m\"\u001b[39;49m\u001b[43m,\u001b[49m\n\u001b[1;32m   1235\u001b[0m \u001b[43m    \u001b[49m\u001b[43mtargetRasterName\u001b[49m\u001b[38;5;241;43m=\u001b[39;49m\u001b[43mtargetRasterName\u001b[49m\u001b[43m,\u001b[49m\n\u001b[1;32m   1236\u001b[0m \u001b[43m    \u001b[49m\u001b[43mcreationOptions\u001b[49m\u001b[38;5;241;43m=\u001b[39;49m\u001b[43mc_options\u001b[49m\u001b[43m,\u001b[49m\n\u001b[1;32m   1237\u001b[0m \u001b[43m    \u001b[49m\u001b[43mobserverX\u001b[49m\u001b[38;5;241;43m=\u001b[39;49m\u001b[43mX\u001b[49m\u001b[43m,\u001b[49m\n\u001b[1;32m   1238\u001b[0m \u001b[43m    \u001b[49m\u001b[43mobserverY\u001b[49m\u001b[38;5;241;43m=\u001b[39;49m\u001b[43mY\u001b[49m\u001b[43m,\u001b[49m\n\u001b[1;32m   1239\u001b[0m \u001b[43m    \u001b[49m\u001b[43mobserverHeight\u001b[49m\u001b[38;5;241;43m=\u001b[39;49m\u001b[43mheight\u001b[49m\u001b[43m,\u001b[49m\n\u001b[1;32m   1240\u001b[0m \u001b[43m    \u001b[49m\u001b[43mtargetHeight\u001b[49m\u001b[38;5;241;43m=\u001b[39;49m\u001b[38;5;241;43m0\u001b[39;49m\u001b[43m,\u001b[49m\n\u001b[1;32m   1241\u001b[0m \u001b[43m    \u001b[49m\u001b[43mvisibleVal\u001b[49m\u001b[38;5;241;43m=\u001b[39;49m\u001b[38;5;241;43m1\u001b[39;49m\u001b[43m,\u001b[49m\n\u001b[1;32m   1242\u001b[0m \u001b[43m    \u001b[49m\u001b[43minvisibleVal\u001b[49m\u001b[38;5;241;43m=\u001b[39;49m\u001b[38;5;241;43m0\u001b[39;49m\u001b[43m,\u001b[49m\n\u001b[1;32m   1243\u001b[0m \u001b[43m    \u001b[49m\u001b[43moutOfRangeVal\u001b[49m\u001b[38;5;241;43m=\u001b[39;49m\u001b[38;5;241;43m-\u001b[39;49m\u001b[38;5;241;43m10000\u001b[39;49m\u001b[43m,\u001b[49m\n\u001b[1;32m   1244\u001b[0m \u001b[43m    \u001b[49m\u001b[43mnoDataVal\u001b[49m\u001b[38;5;241;43m=\u001b[39;49m\u001b[38;5;241;43m-\u001b[39;49m\u001b[38;5;241;43m10000\u001b[39;49m\u001b[43m,\u001b[49m\n\u001b[1;32m   1245\u001b[0m \u001b[43m    \u001b[49m\u001b[43mdfCurvCoeff\u001b[49m\u001b[38;5;241;43m=\u001b[39;49m\u001b[38;5;241;43m0.85714\u001b[39;49m\u001b[43m,\u001b[49m\n\u001b[1;32m   1246\u001b[0m \u001b[43m    \u001b[49m\u001b[43mmode\u001b[49m\u001b[38;5;241;43m=\u001b[39;49m\u001b[38;5;241;43m1\u001b[39;49m\u001b[43m,\u001b[49m\n\u001b[1;32m   1247\u001b[0m \u001b[43m    \u001b[49m\u001b[43mmaxDistance\u001b[49m\u001b[38;5;241;43m=\u001b[39;49m\u001b[43mradius\u001b[49m\n\u001b[1;32m   1248\u001b[0m \u001b[43m\u001b[49m\u001b[43m)\u001b[49m\n\u001b[1;32m   1249\u001b[0m src_ds \u001b[38;5;241m=\u001b[39m \u001b[38;5;28;01mNone\u001b[39;00m\n",
      "File \u001b[0;32m~/.local/lib/python3.10/site-packages/osgeo/gdal.py:8342\u001b[0m, in \u001b[0;36mViewshedGenerate\u001b[0;34m(*args, **kwargs)\u001b[0m\n\u001b[1;32m   8340\u001b[0m \u001b[38;5;28;01mdef\u001b[39;00m \u001b[38;5;21mViewshedGenerate\u001b[39m(\u001b[38;5;241m*\u001b[39margs, \u001b[38;5;241m*\u001b[39m\u001b[38;5;241m*\u001b[39mkwargs):\n\u001b[1;32m   8341\u001b[0m \u001b[38;5;250m    \u001b[39m\u001b[38;5;124mr\u001b[39m\u001b[38;5;124;03m\"\"\"ViewshedGenerate(Band srcBand, char const * driverName, char const * targetRasterName, char ** creationOptions, double observerX, double observerY, double observerHeight, double targetHeight, double visibleVal, double invisibleVal, double outOfRangeVal, double noDataVal, double dfCurvCoeff, GDALViewshedMode mode, double maxDistance, GDALProgressFunc callback=0, void * callback_data=None, GDALViewshedOutputType heightMode=GVOT_NORMAL, char ** options=None) -> Dataset\"\"\"\u001b[39;00m\n\u001b[0;32m-> 8342\u001b[0m     \u001b[38;5;28;01mreturn\u001b[39;00m \u001b[43m_gdal\u001b[49m\u001b[38;5;241;43m.\u001b[39;49m\u001b[43mViewshedGenerate\u001b[49m\u001b[43m(\u001b[49m\u001b[38;5;241;43m*\u001b[39;49m\u001b[43margs\u001b[49m\u001b[43m,\u001b[49m\u001b[43m \u001b[49m\u001b[38;5;241;43m*\u001b[39;49m\u001b[38;5;241;43m*\u001b[39;49m\u001b[43mkwargs\u001b[49m\u001b[43m)\u001b[49m\n",
      "\u001b[0;31mKeyboardInterrupt\u001b[0m: "
     ]
    }
   ],
   "source": [
    "# Step 10 - generate viewsheds\n",
    "pp.preprocess_viewsheds(observed_steps_directory = observed_steps_directory,\n",
    "                  simulated_steps_directory = simulated_steps_directory,\n",
    "                  ob_metadata_file = ob_metadata_file,\n",
    "                  obs_to_process = obs_to_process,\n",
    "                  map_directory = map_directory,\n",
    "                  viewshed_save_directory = viewshed_save_directory,\n",
    "                  keep_rasters = True,\n",
    "                  radius = 30, # viewshed radius in meters\n",
    "                  threads = 20) # how many threads to use to generate viewsheds"
   ]
  },
  {
   "cell_type": "code",
   "execution_count": 13,
   "id": "bba4bd67-a30a-4411-8357-b13e26824aad",
   "metadata": {},
   "outputs": [
    {
     "data": {
      "application/vnd.jupyter.widget-view+json": {
       "model_id": "aee77a8ae3eb42d4b9e5058e6f87ab6b",
       "version_major": 2,
       "version_minor": 0
      },
      "text/plain": [
       "  0%|          | 0/1 [00:00<?, ?it/s]"
      ]
     },
     "metadata": {},
     "output_type": "display_data"
    }
   ],
   "source": [
    "# Step 11 - calculate visibility from pre-generated viewsheds\n",
    "pp.viewshed_visibility(observed_steps_directory = observed_steps_directory,\n",
    "                       simulated_steps_directory = simulated_steps_directory,\n",
    "                       viewshed_save_directory = viewshed_save_directory,\n",
    "                       obs_to_process = obs_to_process)"
   ]
  },
  {
   "cell_type": "code",
   "execution_count": 5,
   "id": "ecf92367-4d21-4661-ad54-b48c38f47d15",
   "metadata": {},
   "outputs": [
    {
     "data": {
      "application/vnd.jupyter.widget-view+json": {
       "model_id": "761a987019cb4f858736feb7ad61e962",
       "version_major": 2,
       "version_minor": 0
      },
      "text/plain": [
       "  0%|          | 0/1 [00:00<?, ?it/s]"
      ]
     },
     "metadata": {},
     "output_type": "display_data"
    }
   ],
   "source": [
    "pp.get_offset(observed_steps_directory = observed_steps_directory,\n",
    "              simulated_steps_directory = simulated_steps_directory,\n",
    "              obs_to_process = obs_to_process)"
   ]
  },
  {
   "cell_type": "code",
   "execution_count": null,
   "id": "eebf44dc-4186-4e8e-9f87-de1ef6c7338d",
   "metadata": {},
   "outputs": [],
   "source": [
    "# Need to add step to add offset column to each file.\n",
    "\n",
    "# Then push updated preprocessing code and notebook, and make an issue on GitHub for Jake to incorporate \n",
    "# necessary changes into dataloader:\n",
    "# - no \"Road\" column\n",
    "# - ground classification is now 1-4, with 4 = road\n",
    "# - ask about nearest neighbor distance?\n",
    "# - column for offset - need to make sure context steps are drawn from observed steps file with the \n",
    "#       appropriate offset."
   ]
  },
  {
   "cell_type": "code",
   "execution_count": null,
   "id": "47ad0e98-2050-4fab-ab89-ee9a34d6d24c",
   "metadata": {},
   "outputs": [],
   "source": []
  }
 ],
 "metadata": {
  "kernelspec": {
   "display_name": "Python (GDAL 3.9.0)",
   "language": "python",
   "name": "gdal390"
  },
  "language_info": {
   "codemirror_mode": {
    "name": "ipython",
    "version": 3
   },
   "file_extension": ".py",
   "mimetype": "text/x-python",
   "name": "python",
   "nbconvert_exporter": "python",
   "pygments_lexer": "ipython3",
   "version": "3.10.12"
  }
 },
 "nbformat": 4,
 "nbformat_minor": 5
}
