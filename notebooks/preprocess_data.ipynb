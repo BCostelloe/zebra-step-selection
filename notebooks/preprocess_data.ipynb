{
 "cells": [
  {
   "cell_type": "markdown",
   "id": "cd0d597c-f4cb-404f-877a-585e447d3b01",
   "metadata": {},
   "source": [
    "This notebook generates the dataset for the step selection model."
   ]
  },
  {
   "cell_type": "code",
   "execution_count": 13,
   "id": "0bd60b14-336e-4639-9189-60b5de0a3c15",
   "metadata": {},
   "outputs": [],
   "source": [
    "import sys\n",
    "sys.path.append('../')\n",
    "\n",
    "import numpy as np\n",
    "import pandas as pd\n",
    "import pickle\n",
    "import os\n",
    "import glob\n",
    "import utm\n",
    "from pathlib import Path\n",
    "import math\n",
    "from math import dist\n",
    "import matplotlib\n",
    "import matplotlib.pyplot as plt\n",
    "import cv2\n",
    "import pandas as pd\n",
    "from osgeo import gdal\n",
    "import n2w\n",
    "gdal.UseExceptions()\n",
    "\n",
    "import stepselector.preprocessing as pp"
   ]
  },
  {
   "cell_type": "code",
   "execution_count": 14,
   "id": "c2c343a8-4b79-45a7-adca-27ca37ea1963",
   "metadata": {},
   "outputs": [],
   "source": [
    "server_mount = '/home/blair/server/herd_hover'"
   ]
  },
  {
   "cell_type": "code",
   "execution_count": 15,
   "id": "e2c94680-e342-4375-8a6e-ef427a17fa8a",
   "metadata": {},
   "outputs": [],
   "source": [
    "# If obs_to_process = None, all of the raw track files in the data/raw_tracks folder will be processed\n",
    "obs_to_process = None\n",
    "\n",
    "# Alternatively, a subset of observations can be processed\n",
    "#obs_to_process = ['ob015', 'ob027', 'ob053', 'ob074', 'ob088', 'ob090']\n",
    "\n",
    "# What step length to use?\n",
    "step_length = 5\n",
    "dataset = n2w.convert(step_length) + '_meter_steps'"
   ]
  },
  {
   "cell_type": "code",
   "execution_count": 16,
   "id": "dfa2357b-af08-4323-8741-dd83bbeb530f",
   "metadata": {},
   "outputs": [],
   "source": [
    "# Define directories\n",
    "data_folder = os.path.join(server_mount, 'zebra_movement_data')\n",
    "raw_tracks_directory = os.path.join(data_folder, 'raw_tracks')\n",
    "rasters_directory = os.path.join(data_folder, 'rasters')\n",
    "observed_steps_directory = os.path.join(data_folder, dataset, 'observed')\n",
    "simulated_steps_directory = os.path.join(data_folder, dataset, 'simulated')\n",
    "viewshed_save_directory = os.path.join(data_folder, 'visual_fields', dataset)\n",
    "map_directory = os.path.join(server_mount, '3D_mapping/big_maps')\n",
    "\n",
    "# Define files\n",
    "ob_metadata_file = os.path.join(data_folder, 'observation_metadata.csv')\n",
    "track_metadata_file = os.path.join(data_folder, 'track_metadata.csv')"
   ]
  },
  {
   "cell_type": "code",
   "execution_count": 25,
   "id": "d46ad8c2-85c6-45d8-be9e-bd6c612935cf",
   "metadata": {},
   "outputs": [
    {
     "data": {
      "application/vnd.jupyter.widget-view+json": {
       "model_id": "3bf79be3a8f9450ba1aaaa56328c9f0a",
       "version_major": 2,
       "version_minor": 0
      },
      "text/plain": [
       "  0%|          | 0/1 [00:00<?, ?it/s]"
      ]
     },
     "metadata": {},
     "output_type": "display_data"
    }
   ],
   "source": [
    "# Step 1 - extract observed steps\n",
    "pp.extract_observed_steps(step_length = step_length, \n",
    "                       raw_tracks_directory = raw_tracks_directory, \n",
    "                       save_directory = observed_steps_directory,\n",
    "                       rasters_directory = rasters_directory,\n",
    "                       #ob_metadata_file = ob_metadata_file, # change to ob_metadata_file if there's risk of observed steps falling outside mapped area\n",
    "                       obs_to_process = obs_to_process)"
   ]
  },
  {
   "cell_type": "code",
   "execution_count": 26,
   "id": "7befeaec-7359-411c-9d29-d61df040f0b7",
   "metadata": {},
   "outputs": [
    {
     "data": {
      "application/vnd.jupyter.widget-view+json": {
       "model_id": "a2ef5dd5cddc4deba9cc2f007becf896",
       "version_major": 2,
       "version_minor": 0
      },
      "text/plain": [
       "  0%|          | 0/1 [00:00<?, ?it/s]"
      ]
     },
     "metadata": {},
     "output_type": "display_data"
    }
   ],
   "source": [
    "# Step 2 - simulate fake steps\n",
    "pp.simulate_fake_steps(n_steps = 20, \n",
    "                    observed_steps_directory = observed_steps_directory, \n",
    "                    save_directory = simulated_steps_directory, \n",
    "                    rasters_directory = rasters_directory, \n",
    "                    ob_metadata_file = ob_metadata_file, \n",
    "                    obs_to_process = obs_to_process)"
   ]
  },
  {
   "cell_type": "code",
   "execution_count": 27,
   "id": "430a8981-a54b-4777-a578-9a0317a16a24",
   "metadata": {},
   "outputs": [
    {
     "data": {
      "application/vnd.jupyter.widget-view+json": {
       "model_id": "ad9851e0c8244b338f811c196763379c",
       "version_major": 2,
       "version_minor": 0
      },
      "text/plain": [
       "  0%|          | 0/1 [00:00<?, ?it/s]"
      ]
     },
     "metadata": {},
     "output_type": "display_data"
    }
   ],
   "source": [
    "# Step 3 - get observer and step info\n",
    "pp.get_observer_and_step_info(observed_steps_directory = observed_steps_directory,\n",
    "                           simulated_steps_directory = simulated_steps_directory,\n",
    "                           ob_metadata_file = ob_metadata_file,\n",
    "                           obs_to_process = obs_to_process)"
   ]
  },
  {
   "cell_type": "code",
   "execution_count": 28,
   "id": "6a95b784-c77c-4b9b-9fe7-6f97e6abc0a8",
   "metadata": {},
   "outputs": [
    {
     "data": {
      "application/vnd.jupyter.widget-view+json": {
       "model_id": "a902397d2d0f47c9ae44341e89619b3d",
       "version_major": 2,
       "version_minor": 0
      },
      "text/plain": [
       "  0%|          | 0/1 [00:00<?, ?it/s]"
      ]
     },
     "metadata": {},
     "output_type": "display_data"
    }
   ],
   "source": [
    "# Step 4 - calculate zebra observation heights for visibility analyses\n",
    "pp.calculate_zebra_heights(observed_steps_directory = observed_steps_directory,\n",
    "                        simulated_steps_directory = simulated_steps_directory,\n",
    "                        rasters_directory = rasters_directory,\n",
    "                        ob_metadata_file = ob_metadata_file,\n",
    "                        obs_to_process = obs_to_process)"
   ]
  },
  {
   "cell_type": "code",
   "execution_count": 29,
   "id": "d99c7daa-207f-44bc-8d7f-920ac8b94426",
   "metadata": {},
   "outputs": [
    {
     "data": {
      "application/vnd.jupyter.widget-view+json": {
       "model_id": "02bf3bf67abb4e348eccbf59fd3d9133",
       "version_major": 2,
       "version_minor": 0
      },
      "text/plain": [
       "  0%|          | 0/1 [00:00<?, ?it/s]"
      ]
     },
     "metadata": {},
     "output_type": "display_data"
    }
   ],
   "source": [
    "# Step 5 - get road info\n",
    "pp.road_or_no(observed_steps_directory = observed_steps_directory,\n",
    "              simulated_steps_directory = simulated_steps_directory,\n",
    "              rasters_directory = rasters_directory,\n",
    "              ob_metadata_file = ob_metadata_file,\n",
    "              obs_to_process = obs_to_process)"
   ]
  },
  {
   "cell_type": "code",
   "execution_count": 30,
   "id": "a644c134-00e2-42b9-8531-c58d57443c60",
   "metadata": {},
   "outputs": [
    {
     "data": {
      "application/vnd.jupyter.widget-view+json": {
       "model_id": "3469b446a530401eae00831456134919",
       "version_major": 2,
       "version_minor": 0
      },
      "text/plain": [
       "  0%|          | 0/1 [00:00<?, ?it/s]"
      ]
     },
     "metadata": {},
     "output_type": "display_data"
    }
   ],
   "source": [
    "# Step 6 - get step slope\n",
    "pp.step_slope(observed_steps_directory = observed_steps_directory,\n",
    "           simulated_steps_directory = simulated_steps_directory,\n",
    "           rasters_directory = rasters_directory,\n",
    "           ob_metadata_file = ob_metadata_file,\n",
    "           obs_to_process = obs_to_process)"
   ]
  },
  {
   "cell_type": "code",
   "execution_count": 31,
   "id": "96c3032e-45b8-49fc-b892-82beb3a57c01",
   "metadata": {},
   "outputs": [
    {
     "data": {
      "application/vnd.jupyter.widget-view+json": {
       "model_id": "2020d86acbe4435385f00f1599912e07",
       "version_major": 2,
       "version_minor": 0
      },
      "text/plain": [
       "  0%|          | 0/1 [00:00<?, ?it/s]"
      ]
     },
     "metadata": {},
     "output_type": "display_data"
    }
   ],
   "source": [
    "# Step 7 - get social info\n",
    "pp.get_social_info(observed_steps_directory = observed_steps_directory,\n",
    "                simulated_steps_directory = simulated_steps_directory,\n",
    "                raw_tracks_directory = raw_tracks_directory,\n",
    "                rasters_directory = rasters_directory,\n",
    "                ob_metadata_file = ob_metadata_file,\n",
    "                track_metadata_file = track_metadata_file,\n",
    "                social_radius = 10,\n",
    "                obs_to_process = obs_to_process)"
   ]
  },
  {
   "cell_type": "code",
   "execution_count": 33,
   "id": "e630d0ef-cc44-471b-b7ca-326030bef097",
   "metadata": {},
   "outputs": [
    {
     "data": {
      "application/vnd.jupyter.widget-view+json": {
       "model_id": "2aca8c73f97b4badafbd90bc68063bb4",
       "version_major": 2,
       "version_minor": 0
      },
      "text/plain": [
       "  0%|          | 0/6 [00:00<?, ?it/s]"
      ]
     },
     "metadata": {},
     "output_type": "display_data"
    }
   ],
   "source": [
    "# Step 8 - get ground cover\n",
    "pp.get_ground_cover(observed_steps_directory = observed_steps_directory,\n",
    "              simulated_steps_directory = simulated_steps_directory,\n",
    "              rasters_directory = rasters_directory,\n",
    "              obs_to_process = obs_to_process)"
   ]
  },
  {
   "cell_type": "code",
   "execution_count": 10,
   "id": "9ec74b4a-960a-4943-9c42-ed3a4e0c9edf",
   "metadata": {},
   "outputs": [
    {
     "data": {
      "application/vnd.jupyter.widget-view+json": {
       "model_id": "d762ea97ace04da3b23cae0c66e52f0e",
       "version_major": 2,
       "version_minor": 0
      },
      "text/plain": [
       "  0%|          | 0/6 [00:00<?, ?it/s]"
      ]
     },
     "metadata": {},
     "output_type": "display_data"
    }
   ],
   "source": [
    "# Step 9 - get track info\n",
    "pp.get_track_info(observed_steps_directory = observed_steps_directory,\n",
    "                  simulated_steps_directory = simulated_steps_directory,\n",
    "                  track_metadata_file = track_metadata_file,\n",
    "                  obs_to_process = obs_to_process)"
   ]
  },
  {
   "cell_type": "code",
   "execution_count": 17,
   "id": "51d379c4-5b14-49bc-9492-d951cc1260da",
   "metadata": {},
   "outputs": [
    {
     "data": {
      "application/vnd.jupyter.widget-view+json": {
       "model_id": "ccb02631708946939b8ed5c979ae69c2",
       "version_major": 2,
       "version_minor": 0
      },
      "text/plain": [
       "  0%|          | 0/4 [00:00<?, ?it/s]"
      ]
     },
     "metadata": {},
     "output_type": "display_data"
    },
    {
     "name": "stdout",
     "output_type": "stream",
     "text": [
      "observed/ob027_track00_5msteps.pkl completed. File processing time:  0:03:15.553235\n",
      "observed/ob027_track01_5msteps.pkl completed. File processing time:  0:00:38.164414\n",
      "observed/ob027_track02_5msteps.pkl completed. File processing time:  0:08:28.366238\n",
      "observed/ob027_track03_5msteps.pkl completed. File processing time:  0:08:34.409837\n",
      "observed/ob027_track04_5msteps.pkl completed. File processing time:  0:08:26.037940\n",
      "observed/ob027_track05_5msteps.pkl completed. File processing time:  0:08:22.331937\n",
      "observed/ob027_track06_5msteps.pkl completed. File processing time:  0:01:13.868544\n",
      "observed/ob027_track07_5msteps.pkl completed. File processing time:  0:06:48.897260\n",
      "observed/ob027_track08_5msteps.pkl completed. File processing time:  0:06:09.124357\n",
      "observed/ob027_track09_5msteps.pkl completed. File processing time:  0:01:33.739508\n",
      "observed/ob027_track10_5msteps.pkl completed. File processing time:  0:00:12.541865\n",
      "observed/ob027_track11_5msteps.pkl completed. File processing time:  0:00:35.743707\n",
      "simulated/ob027_track00_5msteps_sim.pkl completed. File processing time:  1:04:47.729752\n",
      "simulated/ob027_track01_5msteps_sim.pkl completed. File processing time:  0:11:21.292744\n",
      "simulated/ob027_track02_5msteps_sim.pkl completed. File processing time:  2:46:34.438874\n",
      "simulated/ob027_track03_5msteps_sim.pkl completed. File processing time:  2:47:14.539088\n",
      "simulated/ob027_track04_5msteps_sim.pkl completed. File processing time:  2:45:35.211227\n",
      "simulated/ob027_track05_5msteps_sim.pkl completed. File processing time:  2:42:41.078615\n",
      "simulated/ob027_track06_5msteps_sim.pkl completed. File processing time:  0:23:10.705646\n",
      "simulated/ob027_track07_5msteps_sim.pkl completed. File processing time:  2:12:08.117376\n",
      "simulated/ob027_track08_5msteps_sim.pkl completed. File processing time:  1:59:48.144951\n",
      "simulated/ob027_track09_5msteps_sim.pkl completed. File processing time:  0:29:49.990495\n",
      "simulated/ob027_track10_5msteps_sim.pkl completed. File processing time:  0:03:28.914062\n",
      "simulated/ob027_track11_5msteps_sim.pkl completed. File processing time:  0:10:58.696713\n",
      "observed/ob053_track00_5msteps.pkl completed. File processing time:  0:02:38.605123\n",
      "observed/ob053_track01_5msteps.pkl completed. File processing time:  0:02:47.791824\n",
      "observed/ob053_track02_5msteps.pkl completed. File processing time:  0:02:39.099085\n",
      "observed/ob053_track03_5msteps.pkl completed. File processing time:  0:02:39.022014\n",
      "observed/ob053_track04_5msteps.pkl completed. File processing time:  0:03:07.399969\n",
      "observed/ob053_track05_5msteps.pkl completed. File processing time:  0:00:12.599323\n",
      "observed/ob053_track06_5msteps.pkl completed. File processing time:  0:00:16.285498\n",
      "observed/ob053_track09_5msteps.pkl completed. File processing time:  0:00:09.015334\n",
      "observed/ob053_track11_5msteps.pkl completed. File processing time:  0:00:19.886455\n",
      "observed/ob053_track15_5msteps.pkl completed. File processing time:  0:00:19.854229\n",
      "observed/ob053_track17_5msteps.pkl completed. File processing time:  0:00:10.881962\n",
      "simulated/ob053_track00_5msteps_sim.pkl completed. File processing time:  0:52:22.491173\n",
      "simulated/ob053_track01_5msteps_sim.pkl completed. File processing time:  0:55:28.177942\n",
      "simulated/ob053_track02_5msteps_sim.pkl completed. File processing time:  0:52:30.374881\n",
      "simulated/ob053_track03_5msteps_sim.pkl completed. File processing time:  0:52:36.994702\n",
      "simulated/ob053_track04_5msteps_sim.pkl completed. File processing time:  1:02:08.588036\n",
      "simulated/ob053_track05_5msteps_sim.pkl completed. File processing time:  0:03:36.116019\n",
      "simulated/ob053_track06_5msteps_sim.pkl completed. File processing time:  0:04:48.704050\n",
      "simulated/ob053_track09_5msteps_sim.pkl completed. File processing time:  0:02:24.619682\n",
      "simulated/ob053_track11_5msteps_sim.pkl completed. File processing time:  0:06:03.019594\n",
      "simulated/ob053_track15_5msteps_sim.pkl completed. File processing time:  0:06:02.860860\n",
      "simulated/ob053_track17_5msteps_sim.pkl completed. File processing time:  0:03:01.568944\n",
      "observed/ob074_track00_5msteps.pkl completed. File processing time:  0:03:26.284153\n",
      "observed/ob074_track01_5msteps.pkl completed. File processing time:  0:03:19.677048\n",
      "observed/ob074_track02_5msteps.pkl completed. File processing time:  0:03:13.360786\n",
      "observed/ob074_track03_5msteps.pkl completed. File processing time:  0:02:58.046036\n",
      "observed/ob074_track04_5msteps.pkl completed. File processing time:  0:03:17.743273\n",
      "observed/ob074_track05_5msteps.pkl completed. File processing time:  0:03:15.201826\n",
      "observed/ob074_track06_5msteps.pkl completed. File processing time:  0:03:06.618283\n",
      "observed/ob074_track07_5msteps.pkl completed. File processing time:  0:03:38.622092\n",
      "observed/ob074_track08_5msteps.pkl completed. File processing time:  0:02:57.864443\n",
      "observed/ob074_track09_5msteps.pkl completed. File processing time:  0:02:57.740272\n",
      "observed/ob074_track10_5msteps.pkl completed. File processing time:  0:03:04.551698\n",
      "observed/ob074_track11_5msteps.pkl completed. File processing time:  0:02:51.373033\n",
      "simulated/ob074_track00_5msteps_sim.pkl completed. File processing time:  1:02:58.126857\n",
      "simulated/ob074_track01_5msteps_sim.pkl completed. File processing time:  1:05:48.193149\n",
      "simulated/ob074_track02_5msteps_sim.pkl completed. File processing time:  1:03:38.803858\n",
      "simulated/ob074_track03_5msteps_sim.pkl completed. File processing time:  0:58:43.274075\n",
      "simulated/ob074_track04_5msteps_sim.pkl completed. File processing time:  1:05:28.545946\n",
      "simulated/ob074_track05_5msteps_sim.pkl completed. File processing time:  1:04:24.285027\n",
      "simulated/ob074_track06_5msteps_sim.pkl completed. File processing time:  1:01:30.386400\n",
      "simulated/ob074_track07_5msteps_sim.pkl completed. File processing time:  1:12:23.253808\n",
      "simulated/ob074_track08_5msteps_sim.pkl completed. File processing time:  0:58:41.637144\n",
      "simulated/ob074_track09_5msteps_sim.pkl completed. File processing time:  0:58:49.639632\n",
      "simulated/ob074_track10_5msteps_sim.pkl completed. File processing time:  1:00:54.360439\n",
      "simulated/ob074_track11_5msteps_sim.pkl completed. File processing time:  0:56:33.112957\n",
      "observed/ob088_track00_5msteps.pkl completed. File processing time:  0:03:55.014039\n",
      "observed/ob088_track01_5msteps.pkl completed. File processing time:  0:03:27.288202\n",
      "observed/ob088_track02_5msteps.pkl completed. File processing time:  0:03:02.054459\n",
      "observed/ob088_track03_5msteps.pkl completed. File processing time:  0:03:30.817566\n",
      "observed/ob088_track04_5msteps.pkl completed. File processing time:  0:03:30.299743\n",
      "observed/ob088_track05_5msteps.pkl completed. File processing time:  0:03:40.586306\n",
      "observed/ob088_track06_5msteps.pkl completed. File processing time:  0:03:10.621820\n",
      "observed/ob088_track07_5msteps.pkl completed. File processing time:  0:03:33.139954\n",
      "observed/ob088_track08_5msteps.pkl completed. File processing time:  0:03:46.706583\n",
      "observed/ob088_track09_5msteps.pkl completed. File processing time:  0:03:22.360102\n",
      "observed/ob088_track10_5msteps.pkl completed. File processing time:  0:03:00.904316\n",
      "observed/ob088_track11_5msteps.pkl completed. File processing time:  0:03:50.270607\n",
      "observed/ob088_track12_5msteps.pkl completed. File processing time:  0:03:55.672994\n",
      "observed/ob088_track13_5msteps.pkl completed. File processing time:  0:03:23.363930\n",
      "observed/ob088_track14_5msteps.pkl completed. File processing time:  0:03:36.584939\n",
      "observed/ob088_track15_5msteps.pkl completed. File processing time:  0:03:47.613987\n",
      "observed/ob088_track16_5msteps.pkl completed. File processing time:  0:02:44.566065\n",
      "observed/ob088_track17_5msteps.pkl completed. File processing time:  0:03:12.680631\n",
      "simulated/ob088_track00_5msteps_sim.pkl completed. File processing time:  1:14:34.507239\n",
      "simulated/ob088_track01_5msteps_sim.pkl completed. File processing time:  1:08:48.427286\n",
      "simulated/ob088_track02_5msteps_sim.pkl completed. File processing time:  0:58:52.194349\n",
      "simulated/ob088_track03_5msteps_sim.pkl completed. File processing time:  1:09:53.114680\n",
      "simulated/ob088_track04_5msteps_sim.pkl completed. File processing time:  1:09:33.579954\n",
      "simulated/ob088_track05_5msteps_sim.pkl completed. File processing time:  1:13:11.566229\n",
      "simulated/ob088_track06_5msteps_sim.pkl completed. File processing time:  1:02:35.396725\n",
      "simulated/ob088_track07_5msteps_sim.pkl completed. File processing time:  1:10:35.197322\n",
      "simulated/ob088_track08_5msteps_sim.pkl completed. File processing time:  1:15:10.930328\n",
      "simulated/ob088_track09_5msteps_sim.pkl completed. File processing time:  1:06:59.437434\n",
      "simulated/ob088_track10_5msteps_sim.pkl completed. File processing time:  0:59:45.238901\n",
      "simulated/ob088_track11_5msteps_sim.pkl completed. File processing time:  1:16:21.384607\n",
      "simulated/ob088_track12_5msteps_sim.pkl completed. File processing time:  1:18:11.325340\n",
      "simulated/ob088_track13_5msteps_sim.pkl completed. File processing time:  1:07:22.916947\n",
      "simulated/ob088_track14_5msteps_sim.pkl completed. File processing time:  1:11:44.209218\n",
      "simulated/ob088_track15_5msteps_sim.pkl completed. File processing time:  1:15:29.434137\n",
      "simulated/ob088_track16_5msteps_sim.pkl completed. File processing time:  0:54:20.978780\n",
      "simulated/ob088_track17_5msteps_sim.pkl completed. File processing time:  1:03:43.719015\n"
     ]
    }
   ],
   "source": [
    "# Step 10 - generate viewsheds\n",
    "pp.preprocess_viewsheds(observed_steps_directory = observed_steps_directory,\n",
    "                  simulated_steps_directory = simulated_steps_directory,\n",
    "                  ob_metadata_file = ob_metadata_file,\n",
    "                  obs_to_process = obs_to_process,\n",
    "                  map_directory = map_directory,\n",
    "                  viewshed_save_directory = viewshed_save_directory,\n",
    "                  keep_rasters = True,\n",
    "                  radius = 30, # viewshed radius in meters\n",
    "                  threads = 20) # how many threads to use to generate viewsheds"
   ]
  },
  {
   "cell_type": "code",
   "execution_count": 18,
   "id": "bba4bd67-a30a-4411-8357-b13e26824aad",
   "metadata": {},
   "outputs": [
    {
     "data": {
      "application/vnd.jupyter.widget-view+json": {
       "model_id": "ec72673077bc4190859bea652b753f95",
       "version_major": 2,
       "version_minor": 0
      },
      "text/plain": [
       "  0%|          | 0/4 [00:00<?, ?it/s]"
      ]
     },
     "metadata": {},
     "output_type": "display_data"
    }
   ],
   "source": [
    "# Step 11 - calculate visibility from pre-generated viewsheds\n",
    "pp.viewshed_visibility(observed_steps_directory = observed_steps_directory,\n",
    "                       simulated_steps_directory = simulated_steps_directory,\n",
    "                       viewshed_save_directory = viewshed_save_directory,\n",
    "                       obs_to_process = obs_to_process)"
   ]
  }
 ],
 "metadata": {
  "kernelspec": {
   "display_name": "Python (GDAL 3.9.0)",
   "language": "python",
   "name": "gdal390"
  },
  "language_info": {
   "codemirror_mode": {
    "name": "ipython",
    "version": 3
   },
   "file_extension": ".py",
   "mimetype": "text/x-python",
   "name": "python",
   "nbconvert_exporter": "python",
   "pygments_lexer": "ipython3",
   "version": "3.10.12"
  }
 },
 "nbformat": 4,
 "nbformat_minor": 5
}
