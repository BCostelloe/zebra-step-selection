{
 "cells": [
  {
   "cell_type": "code",
   "execution_count": 2,
   "id": "6adc3892-62c4-44fd-8f9c-50fec869c50f",
   "metadata": {},
   "outputs": [],
   "source": [
    "import sys\n",
    "sys.path.append('../')\n",
    "\n",
    "from stepselector.data_loader import ZebraDataset, ZebraBatchSampler, custom_collate\n",
    "from torch.utils.data import Dataset, DataLoader, Sampler\n",
    "import numpy as np\n",
    "import pandas as pd\n",
    "from sklearn.linear_model import LogisticRegression\n",
    "from sklearn.model_selection import train_test_split\n",
    "from sklearn.metrics import accuracy_score\n",
    "from sklearn.impute import SimpleImputer\n",
    "from concurrent.futures import ThreadPoolExecutor, as_completed\n",
    "import os\n",
    "import joblib\n",
    "from osgeo import gdal\n",
    "\n",
    "gdal.UseExceptions()"
   ]
  },
  {
   "cell_type": "code",
   "execution_count": 3,
   "id": "5490bef1-76d3-413c-8543-c4e9c616e619",
   "metadata": {},
   "outputs": [],
   "source": [
    "# Change server_mount for your system\n",
    "server_mount = '/home/blair/server/herd_hover'\n",
    "\n",
    "# Specify radius of viewshed (in meters)\n",
    "viewshed_radius = 100\n",
    "# Specify height/width of downsampled viewshed (e.g. 512 will return an array of 512x512 pixels\n",
    "viewshed_hw = 512\n",
    "# Specify radius (in meters) to define social density (number of conspecifics within radius)\n",
    "social_radius = 10\n",
    "\n",
    "\n",
    "# Make list of columns to keep - these will be fetched by the dataloader\n",
    "columns_to_keep = ['angle_to_observers', 'dist_to_observer', 'delta_observer_dist', 'road', 'ground_slope', 'visibility', 'social_dens', 'social_vis']"
   ]
  },
  {
   "cell_type": "code",
   "execution_count": 4,
   "id": "170c4c14-6378-4084-97c2-1808df064a53",
   "metadata": {},
   "outputs": [],
   "source": [
    "# Define data directories\n",
    "data_folder = os.path.join(server_mount, 'zebra_movement_data')\n",
    "observed_steps_directory = os.path.join(data_folder, 'five_meter_steps', 'observed')\n",
    "simulated_steps_directory = os.path.join(data_folder, 'five_meter_steps', 'simulated')\n",
    "rasters_directory = os.path.join(data_folder, 'rasters')\n",
    "ob_metadata_file = os.path.join(data_folder, 'observation_metadata.csv')\n",
    "track_metadata_file = os.path.join(data_folder, 'track_metadata.csv')"
   ]
  },
  {
   "cell_type": "code",
   "execution_count": 5,
   "id": "85abda59-3fd8-49f8-a8ea-b5c9caa580b2",
   "metadata": {},
   "outputs": [],
   "source": [
    "dataset = ZebraDataset(target_dir = observed_steps_directory,\n",
    "                       reference_dir = simulated_steps_directory,\n",
    "                       rasters_dir = rasters_directory,\n",
    "                       ob_metadata_file = ob_metadata_file,\n",
    "                       viewshed_radius = viewshed_radius,\n",
    "                       viewshed_hw = viewshed_hw,\n",
    "                       social_radius = social_radius,\n",
    "                       threads = 4,\n",
    "                       columns_to_keep = columns_to_keep)\n",
    "\n",
    "batch_sampler = ZebraBatchSampler(dataset)\n",
    "dataloader = DataLoader(dataset, batch_sampler = batch_sampler, collate_fn = custom_collate)"
   ]
  },
  {
   "cell_type": "code",
   "execution_count": 6,
   "id": "41e13085-a23b-483d-8e52-bd7e2647789f",
   "metadata": {},
   "outputs": [],
   "source": [
    "def process_batch(batch):\n",
    "    target, references = batch\n",
    "    \n",
    "    target_data = target[0]\n",
    "    target_features = [\n",
    "        target_data['angle_to_observers'],\n",
    "        target_data['dist_to_observer'],\n",
    "        target_data['road'],\n",
    "        target_data['ground_slope'],\n",
    "        target_data['visibility'],\n",
    "        target_data['social_dens'],\n",
    "        target_data['social_vis']\n",
    "    ]\n",
    "    labels = [1]\n",
    "\n",
    "    ref_features = []\n",
    "    for ref in references[0]:\n",
    "        ref_features.append([\n",
    "            ref['angle_to_observers'],\n",
    "            ref['dist_to_observer'],\n",
    "            ref['delta_observer_dist'],\n",
    "            ref['road'],\n",
    "            ref['ground_slope'],\n",
    "            ref['visibility'],\n",
    "            ref['social_dens'],\n",
    "            ref['social_vis']\n",
    "        ])\n",
    "        labels.append(0)\n",
    "\n",
    "    return target_features, ref_features, labels"
   ]
  },
  {
   "cell_type": "code",
   "execution_count": null,
   "id": "2642bac7-c66f-49ca-bb7c-471928747b82",
   "metadata": {},
   "outputs": [],
   "source": [
    "features = []\n",
    "labels = []\n",
    "\n",
    "with ThreadPoolExecutor() as executor:\n",
    "    futures = [executor.submit(process_batch, batch) for batch in dataloader]\n",
    "    for future in as_completed(futures):\n",
    "        target_features, ref_features, batch_labels = future.result()\n",
    "        features.append(target_features)\n",
    "        features.extend(ref_features)\n",
    "        labels.extend(batch_labels)\n",
    "\n",
    "features = np.array(features)\n",
    "labels = np.array(labels)\n",
    "\n",
    "imputer = SimpleImputer(strategy = 'mean')\n",
    "features = imputer.fit_transform(features)\n",
    "\n",
    "# Split the data into training and testing sets\n",
    "X_train, X_test, y_train, y_test = train_test_split(features, labels, test_size=0.2, random_state=42)\n",
    "\n",
    "# Initialize and train the logistic regression model with parallelization\n",
    "model = LogisticRegression(max_iter=1000, n_jobs=4)  # n_jobs=-1 uses all available cores\n",
    "model.fit(X_train, y_train)\n",
    "\n",
    "# Make predictions on the test set\n",
    "y_pred = model.predict(X_test)\n",
    "\n",
    "# Evaluate the model\n",
    "accuracy = accuracy_score(y_test, y_pred)\n",
    "print(f'Accuracy: {accuracy:.2f}')"
   ]
  },
  {
   "cell_type": "code",
   "execution_count": null,
   "id": "ceed6564-695a-489b-a41a-3dc7e3eb7568",
   "metadata": {},
   "outputs": [],
   "source": [
    "joblib.dump(model, '/home/blair/fine-scale-movement/logistic_regression_model.joblib')"
   ]
  },
  {
   "cell_type": "code",
   "execution_count": null,
   "id": "b220e906-d0ed-4286-b8e2-dc1cb3e3ca44",
   "metadata": {},
   "outputs": [
    {
     "name": "stderr",
     "output_type": "stream",
     "text": [
      "/home/blair/.local/lib/python3.10/site-packages/osgeo/gdal.py:312: FutureWarning: Neither gdal.UseExceptions() nor gdal.DontUseExceptions() has been explicitly called. In GDAL 4.0, exceptions will be enabled by default.\n",
      "  warnings.warn(\n"
     ]
    }
   ],
   "source": [
    "# features = []\n",
    "# labels = []\n",
    "\n",
    "# # Iterate over data loader\n",
    "# for batch in dataloader:\n",
    "#     # Extract target and reference data\n",
    "#     target, references = batch\n",
    "\n",
    "#     # Extract features for target point and label as 1\n",
    "#     target_data = target[0]\n",
    "#     target_features = [\n",
    "#         target_data['angle_to_observers'],\n",
    "#         target_data['dist_to_observer'],\n",
    "#         target_data['road'],\n",
    "#         target_data['ground_slope'],\n",
    "#         target_data['visibility'],\n",
    "#         target_data['social_dens'],\n",
    "#         target_data['social_vis']\n",
    "#     ]\n",
    "#     features.append(target_features)\n",
    "#     labels.append(1)\n",
    "\n",
    "#     for ref in references[0]:\n",
    "#         ref_features = [\n",
    "#             ref['angle_to_observers'],\n",
    "#             ref['dist_to_observer'],\n",
    "#             ref['delta_observer_dist'],\n",
    "#             ref['road'],\n",
    "#             ref['ground_slope'],\n",
    "#             ref['visibility'],\n",
    "#             ref['social_dens'],\n",
    "#             ref['social_vis']\n",
    "#         ]\n",
    "#         features.append(ref_features)\n",
    "#         labels.append(0)\n",
    "\n",
    "# # Convert to numpy arrays\n",
    "# features = np.array(features)\n",
    "# labels = np.array(labels)\n",
    "\n",
    "# # Handle missing values (nan) by imputing with the mean of the column\n",
    "# imputer = SimpleImputer(strategy = 'mean')\n",
    "# features = imputer.fit_transform(features)\n",
    "\n",
    "# # Split the data into training and testing sets\n",
    "# X_train, X_test, y_train, y_test = train_test_split(features, labels, test_size = 0.2, random_state=42)\n",
    "\n",
    "# # Initialize and train the logistic regression model\n",
    "# model = LogisticRegression(max_iter = 1000)\n",
    "# model.fit(X_train, y_train)"
   ]
  },
  {
   "cell_type": "code",
   "execution_count": null,
   "id": "3fdf6043-0e94-4750-9c25-9039be2356d3",
   "metadata": {},
   "outputs": [],
   "source": [
    "y_pred = model.predict(X_test)"
   ]
  },
  {
   "cell_type": "code",
   "execution_count": null,
   "id": "a99133e3-64f9-4838-a239-e11a4ca7f414",
   "metadata": {},
   "outputs": [],
   "source": [
    "accuracy = accuracy_score(y_test, y_pred)\n",
    "print(f'Accuracy: {accuracy:.2f}')"
   ]
  },
  {
   "cell_type": "code",
   "execution_count": null,
   "id": "2c9df33a-f84b-4028-bda4-4be3a5defd9e",
   "metadata": {},
   "outputs": [],
   "source": [
    "accuracy"
   ]
  },
  {
   "cell_type": "code",
   "execution_count": null,
   "id": "aeb9b736-8716-4acc-93c1-500d4e0d7cf0",
   "metadata": {},
   "outputs": [],
   "source": [
    "accuracy"
   ]
  },
  {
   "cell_type": "code",
   "execution_count": null,
   "id": "599855ba-3ecd-4e3e-9810-43f1d7b9c5d3",
   "metadata": {},
   "outputs": [],
   "source": [
    "joblib.dump(model, '/home/blair/fine-scale-movement/logistic_regression_model.joblib')"
   ]
  },
  {
   "cell_type": "code",
   "execution_count": null,
   "id": "11e4566b-9920-4312-8714-a393ae3b2e68",
   "metadata": {},
   "outputs": [],
   "source": []
  }
 ],
 "metadata": {
  "kernelspec": {
   "display_name": "Python (GDAL 3.9.0)",
   "language": "python",
   "name": "gdal390"
  },
  "language_info": {
   "codemirror_mode": {
    "name": "ipython",
    "version": 3
   },
   "file_extension": ".py",
   "mimetype": "text/x-python",
   "name": "python",
   "nbconvert_exporter": "python",
   "pygments_lexer": "ipython3",
   "version": "3.10.12"
  }
 },
 "nbformat": 4,
 "nbformat_minor": 5
}
