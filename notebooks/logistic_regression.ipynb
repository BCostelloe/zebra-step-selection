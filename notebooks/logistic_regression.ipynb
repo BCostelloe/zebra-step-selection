{
 "cells": [
  {
   "cell_type": "code",
   "execution_count": 11,
   "id": "6adc3892-62c4-44fd-8f9c-50fec869c50f",
   "metadata": {},
   "outputs": [],
   "source": [
    "import sys\n",
    "sys.path.append('../')\n",
    "\n",
    "from stepselector.data_loader import ZebraDataset, ZebraBatchSampler, custom_collate\n",
    "from torch.utils.data import Dataset, DataLoader, Sampler\n",
    "import numpy as np\n",
    "import pandas as pd\n",
    "from sklearn.linear_model import LogisticRegression\n",
    "from sklearn.model_selection import train_test_split\n",
    "from sklearn.metrics import accuracy_score\n",
    "from sklearn.impute import SimpleImputer\n",
    "from concurrent.futures import ThreadPoolExecutor, as_completed\n",
    "import os\n",
    "import joblib\n",
    "from osgeo import gdal\n",
    "from tqdm.notebook import tqdm\n",
    "\n",
    "gdal.UseExceptions()"
   ]
  },
  {
   "cell_type": "code",
   "execution_count": 12,
   "id": "5490bef1-76d3-413c-8543-c4e9c616e619",
   "metadata": {},
   "outputs": [],
   "source": [
    "# Change server_mount for your system\n",
    "server_mount = '/home/blair/server/herd_hover'\n",
    "\n",
    "# Do you want to load five meter steps or ten meter steps?\n",
    "step_length = 'five'\n",
    "\n",
    "# Specify radius of viewshed (in meters)\n",
    "viewshed_radius = 50\n",
    "# Specify height/width of downsampled viewshed (e.g. 512 will return an array of 512x512 pixels\n",
    "viewshed_hw = 512\n",
    "# Specify radius (in meters) to define social density (number of conspecifics within radius)\n",
    "social_radius = 10\n",
    "\n",
    "# How many fake steps to use per real step? (max 20)\n",
    "n_ref_steps = 5\n",
    "\n",
    "# how many threads to use for viewshed generation? (used 1 before, 4 should be faster)\n",
    "n_threads = 4\n",
    "\n",
    "# Make list of columns to keep - these will be fetched by the dataloader\n",
    "columns_to_keep = ['target_id',\n",
    "                   #'step_length_m',\n",
    "                   #'step_duration_s',\n",
    "                   #'step_speed_mps',\n",
    "                   'angle_to_observers', \n",
    "                   'dist_to_observer', \n",
    "                   'delta_observer_dist', \n",
    "                   'road', \n",
    "                   'ground_slope', \n",
    "                   'visibility', \n",
    "                   'social_dens', \n",
    "                   'social_vis']\n",
    "\n",
    "# Filename for loaded data\n",
    "filename = 'loaded_data.csv'"
   ]
  },
  {
   "cell_type": "code",
   "execution_count": 13,
   "id": "170c4c14-6378-4084-97c2-1808df064a53",
   "metadata": {},
   "outputs": [],
   "source": [
    "# Define data directories\n",
    "data_folder = os.path.join(server_mount, 'zebra_movement_data')\n",
    "\n",
    "# For five meter steps:\n",
    "observed_steps_directory = os.path.join(data_folder, '%s_meter_steps' %step_length, 'observed')\n",
    "simulated_steps_directory = os.path.join(data_folder, '%s_meter_steps' %step_length, 'simulated')\n",
    "\n",
    "\n",
    "rasters_directory = os.path.join(data_folder, 'rasters')\n",
    "ob_metadata_file = os.path.join(data_folder, 'observation_metadata.csv')\n",
    "track_metadata_file = os.path.join(data_folder, 'track_metadata.csv')"
   ]
  },
  {
   "cell_type": "code",
   "execution_count": 7,
   "id": "85abda59-3fd8-49f8-a8ea-b5c9caa580b2",
   "metadata": {},
   "outputs": [],
   "source": [
    "dataset = ZebraDataset(target_dir = observed_steps_directory,\n",
    "                       reference_dir = simulated_steps_directory,\n",
    "                       rasters_dir = rasters_directory,\n",
    "                       ob_metadata_file = ob_metadata_file,\n",
    "                       viewshed_radius = viewshed_radius,\n",
    "                       viewshed_hw = viewshed_hw,\n",
    "                       social_radius = social_radius,\n",
    "                       num_ref_steps = n_ref_steps,\n",
    "                       threads = n_threads,\n",
    "                       columns_to_keep = columns_to_keep)\n",
    "\n",
    "batch_sampler = ZebraBatchSampler(dataset)\n",
    "dataloader = DataLoader(dataset, batch_sampler = batch_sampler, collate_fn = custom_collate, num_workers = 4)"
   ]
  },
  {
   "cell_type": "code",
   "execution_count": 8,
   "id": "41e13085-a23b-483d-8e52-bd7e2647789f",
   "metadata": {},
   "outputs": [],
   "source": [
    "def process_batch(batch):\n",
    "    target, references = batch\n",
    "    \n",
    "    target_data = target[0]\n",
    "    target_features = [\n",
    "        target_data['target_id'],\n",
    "        target_data['angle_to_observers'],\n",
    "        target_data['dist_to_observer'],\n",
    "        target_data['delta_observer_dist'],\n",
    "        target_data['road'],\n",
    "        target_data['ground_slope'],\n",
    "        target_data['visibility'],\n",
    "        target_data['social_dens'],\n",
    "        target_data['social_vis']\n",
    "    ]\n",
    "    labels = [1]\n",
    "\n",
    "    ref_features = []\n",
    "    for ref in references[0]:\n",
    "        ref_features.append([\n",
    "            ref['target_id'],\n",
    "            ref['angle_to_observers'],\n",
    "            ref['dist_to_observer'],\n",
    "            ref['delta_observer_dist'],\n",
    "            ref['road'],\n",
    "            ref['ground_slope'],\n",
    "            ref['visibility'],\n",
    "            ref['social_dens'],\n",
    "            ref['social_vis']\n",
    "        ])\n",
    "        labels.append(0)\n",
    "\n",
    "    return target_features, ref_features, labels"
   ]
  },
  {
   "cell_type": "code",
   "execution_count": 9,
   "id": "2642bac7-c66f-49ca-bb7c-471928747b82",
   "metadata": {},
   "outputs": [
    {
     "data": {
      "application/vnd.jupyter.widget-view+json": {
       "model_id": "0845d8b594894b238f4036d2ba526f1b",
       "version_major": 2,
       "version_minor": 0
      },
      "text/plain": [
       "  0%|          | 0/7869 [00:00<?, ?it/s]"
      ]
     },
     "metadata": {},
     "output_type": "display_data"
    },
    {
     "name": "stderr",
     "output_type": "stream",
     "text": [
      "IOPub message rate exceeded.\n",
      "The Jupyter server will temporarily stop sending output\n",
      "to the client in order to avoid crashing it.\n",
      "To change this limit, set the config variable\n",
      "`--ServerApp.iopub_msg_rate_limit`.\n",
      "\n",
      "Current values:\n",
      "ServerApp.iopub_msg_rate_limit=1000.0 (msgs/sec)\n",
      "ServerApp.rate_limit_window=3.0 (secs)\n",
      "\n"
     ]
    }
   ],
   "source": [
    "features = []\n",
    "labels = []\n",
    "\n",
    "for batch in tqdm(dataloader):\n",
    "    target_features, ref_features, batch_labels = process_batch(batch)\n",
    "    features.append(target_features)\n",
    "    features.extend(ref_features)\n",
    "    labels.extend(batch_labels)\n",
    "\n",
    "df_features = pd.DataFrame(features)\n",
    "df_labels = pd.Series(labels, name = 'label')\n",
    "\n",
    "df = pd.concat([df_features, df_labels], axis =1)\n",
    "\n",
    "df.to_csv(os.path.join(data_folder, filename))\n",
    "# imputer = SimpleImputer(strategy = 'mean')\n",
    "# df_imputed = pd.DataFrame(imputer.fit_transform(features), columns=df_features.columns)"
   ]
  }
 ],
 "metadata": {
  "kernelspec": {
   "display_name": "Python (GDAL 3.9.0)",
   "language": "python",
   "name": "gdal390"
  },
  "language_info": {
   "codemirror_mode": {
    "name": "ipython",
    "version": 3
   },
   "file_extension": ".py",
   "mimetype": "text/x-python",
   "name": "python",
   "nbconvert_exporter": "python",
   "pygments_lexer": "ipython3",
   "version": "3.10.12"
  }
 },
 "nbformat": 4,
 "nbformat_minor": 5
}
