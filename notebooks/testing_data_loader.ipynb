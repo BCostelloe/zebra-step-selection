{
 "cells": [
  {
   "cell_type": "code",
   "execution_count": 1,
   "id": "cee97a52-1584-4d34-a057-823cc9a7a4d5",
   "metadata": {},
   "outputs": [],
   "source": [
    "import sys\n",
    "sys.path.append('../')\n",
    "\n",
    "from stepselector.data_loader import ZebraDataset, custom_collate\n",
    "from torch.utils.data import Dataset, DataLoader, Sampler, BatchSampler\n",
    "import numpy as np\n",
    "import pandas as pd\n",
    "import os\n",
    "from tqdm.notebook import tqdm"
   ]
  },
  {
   "cell_type": "code",
   "execution_count": 2,
   "id": "d604228c-b5bd-4f55-aade-5cf2a2d49b48",
   "metadata": {},
   "outputs": [],
   "source": [
    "# Do you want to load five meter steps or ten meter steps?\n",
    "step_length = 'five'\n",
    "\n",
    "# Specify radius (in meters) to define social density (number of conspecifics within radius)\n",
    "social_radius = 10\n",
    "\n",
    "# How many fake steps to use per real step? (max 20)\n",
    "n_ref_steps = 5\n",
    "\n",
    "# How many context steps should be included?\n",
    "num_context_steps = 5\n",
    "\n",
    "# Make list of columns to keep - these will be fetched by the dataloader\n",
    "columns_to_keep = ['target_id',\n",
    "                   'observation',\n",
    "                   'step_speed_mps',\n",
    "                   'angle_to_observers', \n",
    "                   'dist_to_observer', \n",
    "                   'delta_observer_dist', \n",
    "                   'road', \n",
    "                   'ground_class',\n",
    "                   'ground_slope', \n",
    "                   'viewshed_vis', \n",
    "                   'social_dens', \n",
    "                   'social_vis',\n",
    "                   'age_class',\n",
    "                   'species',\n",
    "                   'individual_ID']\n",
    "\n",
    "server_mount = '/home/blair/server/herd_hover'"
   ]
  },
  {
   "cell_type": "code",
   "execution_count": 3,
   "id": "8f930443-cf70-4720-8e99-5461c481d22a",
   "metadata": {},
   "outputs": [],
   "source": [
    "# Define data directories\n",
    "data_folder = os.path.join(server_mount, 'zebra_movement_data')\n",
    "observed_steps_directory = os.path.join(data_folder, '%s_meter_steps' %step_length, 'observed')\n",
    "simulated_steps_directory = os.path.join(data_folder, '%s_meter_steps' %step_length, 'simulated')"
   ]
  },
  {
   "cell_type": "code",
   "execution_count": 4,
   "id": "98c16e8c-ba86-4838-87d9-12f45ae1607f",
   "metadata": {},
   "outputs": [],
   "source": [
    "# Initialize dataset\n",
    "dataset = ZebraDataset(target_dir=observed_steps_directory,\n",
    "                       reference_dir=simulated_steps_directory,\n",
    "                       social_radius=social_radius,\n",
    "                       columns_to_keep=columns_to_keep,\n",
    "                       num_ref_steps=n_ref_steps,\n",
    "                       num_context_steps = num_context_steps)"
   ]
  },
  {
   "cell_type": "code",
   "execution_count": 5,
   "id": "9a4cf354-2fe2-4b3e-a5a6-18a8d85b2bd4",
   "metadata": {},
   "outputs": [],
   "source": [
    "# Create DataLoader\n",
    "dataloader = DataLoader(dataset, batch_size = 10, drop_last = False, collate_fn = custom_collate)"
   ]
  },
  {
   "cell_type": "code",
   "execution_count": 6,
   "id": "f3d5bae5-72bf-4deb-8b7d-cd09d9a9ca49",
   "metadata": {},
   "outputs": [],
   "source": [
    "target_test = []\n",
    "refs_test = []\n",
    "context_test= []\n",
    "\n",
    "# Iterate through the DataLoader\n",
    "for batch in dataloader:\n",
    "    target, references, context = batch\n",
    "    target_test.extend(target)\n",
    "    refs_test.extend(references)\n",
    "    context_test.extend(context)\n"
   ]
  },
  {
   "cell_type": "code",
   "execution_count": null,
   "id": "0d55356c-a68e-4138-9bd6-a2eecb77007e",
   "metadata": {},
   "outputs": [],
   "source": []
  }
 ],
 "metadata": {
  "kernelspec": {
   "display_name": "Python 3 (ipykernel)",
   "language": "python",
   "name": "python3"
  },
  "language_info": {
   "codemirror_mode": {
    "name": "ipython",
    "version": 3
   },
   "file_extension": ".py",
   "mimetype": "text/x-python",
   "name": "python",
   "nbconvert_exporter": "python",
   "pygments_lexer": "ipython3",
   "version": "3.10.12"
  }
 },
 "nbformat": 4,
 "nbformat_minor": 5
}
