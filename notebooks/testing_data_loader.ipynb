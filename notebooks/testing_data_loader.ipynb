{
 "cells": [
  {
   "cell_type": "code",
   "execution_count": 1,
   "id": "cee97a52-1584-4d34-a057-823cc9a7a4d5",
   "metadata": {},
   "outputs": [],
   "source": [
    "import sys\n",
    "sys.path.append('../')\n",
    "\n",
    "from stepselector.data_loader import ZebraDataset, ZebraBatchSampler, custom_collate\n",
    "from torch.utils.data import Dataset, DataLoader, Sampler\n",
    "import numpy as np\n",
    "import pandas as pd\n",
    "from sklearn.linear_model import LogisticRegression\n",
    "from sklearn.model_selection import train_test_split\n",
    "from sklearn.metrics import accuracy_score\n",
    "from sklearn.impute import SimpleImputer\n",
    "from concurrent.futures import ThreadPoolExecutor, as_completed\n",
    "from sklearn.preprocessing import OneHotEncoder\n",
    "import os\n",
    "import joblib\n",
    "from tqdm.notebook import tqdm\n",
    "\n",
    "gdal.UseExceptions()"
   ]
  },
  {
   "cell_type": "code",
   "execution_count": 2,
   "id": "d604228c-b5bd-4f55-aade-5cf2a2d49b48",
   "metadata": {},
   "outputs": [],
   "source": [
    "# Do you want to load five meter steps or ten meter steps?\n",
    "step_length = 'five'\n",
    "\n",
    "# Specify radius (in meters) to define social density (number of conspecifics within radius)\n",
    "social_radius = 10\n",
    "\n",
    "# How many fake steps to use per real step? (max 20)\n",
    "n_ref_steps = 5\n",
    "\n",
    "# Make list of columns to keep - these will be fetched by the dataloader\n",
    "columns_to_keep = ['target_id',\n",
    "                   'observation',\n",
    "                   'step_speed_mps',\n",
    "                   'angle_to_observers', \n",
    "                   'dist_to_observer', \n",
    "                   'delta_observer_dist', \n",
    "                   'road', \n",
    "                   'ground_class',\n",
    "                   'ground_slope', \n",
    "                   'viewshed_vis', \n",
    "                   'social_dens', \n",
    "                   'social_vis',\n",
    "                   'age_class',\n",
    "                   'species',\n",
    "                   'individual_ID']\n",
    "\n",
    "server_mount = '/home/blair/server/herd_hover'"
   ]
  },
  {
   "cell_type": "code",
   "execution_count": 3,
   "id": "8f930443-cf70-4720-8e99-5461c481d22a",
   "metadata": {},
   "outputs": [],
   "source": [
    "# Define data directories\n",
    "data_folder = os.path.join(server_mount, 'zebra_movement_data')\n",
    "\n",
    "# For five meter steps:\n",
    "observed_steps_directory = os.path.join(data_folder, '%s_meter_steps' %step_length, 'observed')\n",
    "simulated_steps_directory = os.path.join(data_folder, '%s_meter_steps' %step_length, 'simulated')\n",
    "\n",
    "\n",
    "#rasters_directory = os.path.join(data_folder, 'rasters')\n",
    "#ob_metadata_file = os.path.join(data_folder, 'observation_metadata.csv')\n",
    "track_metadata_file = os.path.join(data_folder, 'track_metadata.csv')"
   ]
  },
  {
   "cell_type": "code",
   "execution_count": 7,
   "id": "98c16e8c-ba86-4838-87d9-12f45ae1607f",
   "metadata": {},
   "outputs": [],
   "source": [
    "# Initialize dataset\n",
    "dataset = ZebraDataset(target_dir=observed_steps_directory, reference_dir=simulated_steps_directory, social_radius=5, num_ref_steps=5, columns_to_keep=columns_to_keep)\n",
    "\n",
    "batch_sampler = ZebraBatchSampler(dataset)"
   ]
  },
  {
   "cell_type": "code",
   "execution_count": 8,
   "id": "9a4cf354-2fe2-4b3e-a5a6-18a8d85b2bd4",
   "metadata": {},
   "outputs": [],
   "source": [
    "# Create DataLoader\n",
    "dataloader = DataLoader(dataset, batch_sampler = batch_sampler, collate_fn = custom_collate)"
   ]
  },
  {
   "cell_type": "code",
   "execution_count": 9,
   "id": "f3d5bae5-72bf-4deb-8b7d-cd09d9a9ca49",
   "metadata": {
    "collapsed": true,
    "jupyter": {
     "outputs_hidden": true
    }
   },
   "outputs": [
    {
     "ename": "KeyboardInterrupt",
     "evalue": "",
     "output_type": "error",
     "traceback": [
      "\u001b[0;31m---------------------------------------------------------------------------\u001b[0m",
      "\u001b[0;31mKeyboardInterrupt\u001b[0m                         Traceback (most recent call last)",
      "Cell \u001b[0;32mIn[9], line 6\u001b[0m\n\u001b[1;32m      3\u001b[0m context_test\u001b[38;5;241m=\u001b[39m []\n\u001b[1;32m      5\u001b[0m \u001b[38;5;66;03m# Iterate through the DataLoader\u001b[39;00m\n\u001b[0;32m----> 6\u001b[0m \u001b[38;5;28;01mfor\u001b[39;00m batch \u001b[38;5;129;01min\u001b[39;00m dataloader:\n\u001b[1;32m      7\u001b[0m     target, references, context \u001b[38;5;241m=\u001b[39m batch\n\u001b[1;32m      8\u001b[0m     target_test\u001b[38;5;241m.\u001b[39mextend(target)\n",
      "File \u001b[0;32m~/.local/lib/python3.10/site-packages/torch/utils/data/dataloader.py:631\u001b[0m, in \u001b[0;36m_BaseDataLoaderIter.__next__\u001b[0;34m(self)\u001b[0m\n\u001b[1;32m    628\u001b[0m \u001b[38;5;28;01mif\u001b[39;00m \u001b[38;5;28mself\u001b[39m\u001b[38;5;241m.\u001b[39m_sampler_iter \u001b[38;5;129;01mis\u001b[39;00m \u001b[38;5;28;01mNone\u001b[39;00m:\n\u001b[1;32m    629\u001b[0m     \u001b[38;5;66;03m# TODO(https://github.com/pytorch/pytorch/issues/76750)\u001b[39;00m\n\u001b[1;32m    630\u001b[0m     \u001b[38;5;28mself\u001b[39m\u001b[38;5;241m.\u001b[39m_reset()  \u001b[38;5;66;03m# type: ignore[call-arg]\u001b[39;00m\n\u001b[0;32m--> 631\u001b[0m data \u001b[38;5;241m=\u001b[39m \u001b[38;5;28;43mself\u001b[39;49m\u001b[38;5;241;43m.\u001b[39;49m\u001b[43m_next_data\u001b[49m\u001b[43m(\u001b[49m\u001b[43m)\u001b[49m\n\u001b[1;32m    632\u001b[0m \u001b[38;5;28mself\u001b[39m\u001b[38;5;241m.\u001b[39m_num_yielded \u001b[38;5;241m+\u001b[39m\u001b[38;5;241m=\u001b[39m \u001b[38;5;241m1\u001b[39m\n\u001b[1;32m    633\u001b[0m \u001b[38;5;28;01mif\u001b[39;00m \u001b[38;5;28mself\u001b[39m\u001b[38;5;241m.\u001b[39m_dataset_kind \u001b[38;5;241m==\u001b[39m _DatasetKind\u001b[38;5;241m.\u001b[39mIterable \u001b[38;5;129;01mand\u001b[39;00m \\\n\u001b[1;32m    634\u001b[0m         \u001b[38;5;28mself\u001b[39m\u001b[38;5;241m.\u001b[39m_IterableDataset_len_called \u001b[38;5;129;01mis\u001b[39;00m \u001b[38;5;129;01mnot\u001b[39;00m \u001b[38;5;28;01mNone\u001b[39;00m \u001b[38;5;129;01mand\u001b[39;00m \\\n\u001b[1;32m    635\u001b[0m         \u001b[38;5;28mself\u001b[39m\u001b[38;5;241m.\u001b[39m_num_yielded \u001b[38;5;241m>\u001b[39m \u001b[38;5;28mself\u001b[39m\u001b[38;5;241m.\u001b[39m_IterableDataset_len_called:\n",
      "File \u001b[0;32m~/.local/lib/python3.10/site-packages/torch/utils/data/dataloader.py:675\u001b[0m, in \u001b[0;36m_SingleProcessDataLoaderIter._next_data\u001b[0;34m(self)\u001b[0m\n\u001b[1;32m    673\u001b[0m \u001b[38;5;28;01mdef\u001b[39;00m \u001b[38;5;21m_next_data\u001b[39m(\u001b[38;5;28mself\u001b[39m):\n\u001b[1;32m    674\u001b[0m     index \u001b[38;5;241m=\u001b[39m \u001b[38;5;28mself\u001b[39m\u001b[38;5;241m.\u001b[39m_next_index()  \u001b[38;5;66;03m# may raise StopIteration\u001b[39;00m\n\u001b[0;32m--> 675\u001b[0m     data \u001b[38;5;241m=\u001b[39m \u001b[38;5;28;43mself\u001b[39;49m\u001b[38;5;241;43m.\u001b[39;49m\u001b[43m_dataset_fetcher\u001b[49m\u001b[38;5;241;43m.\u001b[39;49m\u001b[43mfetch\u001b[49m\u001b[43m(\u001b[49m\u001b[43mindex\u001b[49m\u001b[43m)\u001b[49m  \u001b[38;5;66;03m# may raise StopIteration\u001b[39;00m\n\u001b[1;32m    676\u001b[0m     \u001b[38;5;28;01mif\u001b[39;00m \u001b[38;5;28mself\u001b[39m\u001b[38;5;241m.\u001b[39m_pin_memory:\n\u001b[1;32m    677\u001b[0m         data \u001b[38;5;241m=\u001b[39m _utils\u001b[38;5;241m.\u001b[39mpin_memory\u001b[38;5;241m.\u001b[39mpin_memory(data, \u001b[38;5;28mself\u001b[39m\u001b[38;5;241m.\u001b[39m_pin_memory_device)\n",
      "File \u001b[0;32m~/.local/lib/python3.10/site-packages/torch/utils/data/_utils/fetch.py:51\u001b[0m, in \u001b[0;36m_MapDatasetFetcher.fetch\u001b[0;34m(self, possibly_batched_index)\u001b[0m\n\u001b[1;32m     49\u001b[0m         data \u001b[38;5;241m=\u001b[39m \u001b[38;5;28mself\u001b[39m\u001b[38;5;241m.\u001b[39mdataset\u001b[38;5;241m.\u001b[39m__getitems__(possibly_batched_index)\n\u001b[1;32m     50\u001b[0m     \u001b[38;5;28;01melse\u001b[39;00m:\n\u001b[0;32m---> 51\u001b[0m         data \u001b[38;5;241m=\u001b[39m [\u001b[38;5;28mself\u001b[39m\u001b[38;5;241m.\u001b[39mdataset[idx] \u001b[38;5;28;01mfor\u001b[39;00m idx \u001b[38;5;129;01min\u001b[39;00m possibly_batched_index]\n\u001b[1;32m     52\u001b[0m \u001b[38;5;28;01melse\u001b[39;00m:\n\u001b[1;32m     53\u001b[0m     data \u001b[38;5;241m=\u001b[39m \u001b[38;5;28mself\u001b[39m\u001b[38;5;241m.\u001b[39mdataset[possibly_batched_index]\n",
      "File \u001b[0;32m~/.local/lib/python3.10/site-packages/torch/utils/data/_utils/fetch.py:51\u001b[0m, in \u001b[0;36m<listcomp>\u001b[0;34m(.0)\u001b[0m\n\u001b[1;32m     49\u001b[0m         data \u001b[38;5;241m=\u001b[39m \u001b[38;5;28mself\u001b[39m\u001b[38;5;241m.\u001b[39mdataset\u001b[38;5;241m.\u001b[39m__getitems__(possibly_batched_index)\n\u001b[1;32m     50\u001b[0m     \u001b[38;5;28;01melse\u001b[39;00m:\n\u001b[0;32m---> 51\u001b[0m         data \u001b[38;5;241m=\u001b[39m [\u001b[38;5;28;43mself\u001b[39;49m\u001b[38;5;241;43m.\u001b[39;49m\u001b[43mdataset\u001b[49m\u001b[43m[\u001b[49m\u001b[43midx\u001b[49m\u001b[43m]\u001b[49m \u001b[38;5;28;01mfor\u001b[39;00m idx \u001b[38;5;129;01min\u001b[39;00m possibly_batched_index]\n\u001b[1;32m     52\u001b[0m \u001b[38;5;28;01melse\u001b[39;00m:\n\u001b[1;32m     53\u001b[0m     data \u001b[38;5;241m=\u001b[39m \u001b[38;5;28mself\u001b[39m\u001b[38;5;241m.\u001b[39mdataset[possibly_batched_index]\n",
      "File \u001b[0;32m~/fine-scale-movement/stepselector/data_loader.py:152\u001b[0m, in \u001b[0;36mZebraDataset.__getitem__\u001b[0;34m(self, idx)\u001b[0m\n\u001b[1;32m    150\u001b[0m     target_data \u001b[38;5;241m=\u001b[39m target_row[\u001b[38;5;28mself\u001b[39m\u001b[38;5;241m.\u001b[39mcolumns_to_keep]\u001b[38;5;241m.\u001b[39mto_dict()\n\u001b[1;32m    151\u001b[0m     reference_data \u001b[38;5;241m=\u001b[39m reference_rows[\u001b[38;5;28mself\u001b[39m\u001b[38;5;241m.\u001b[39mcolumns_to_keep]\u001b[38;5;241m.\u001b[39mto_dict(orient\u001b[38;5;241m=\u001b[39m\u001b[38;5;124m'\u001b[39m\u001b[38;5;124mrecords\u001b[39m\u001b[38;5;124m'\u001b[39m)\n\u001b[0;32m--> 152\u001b[0m     context_data \u001b[38;5;241m=\u001b[39m \u001b[43mcontext_rows\u001b[49m\u001b[43m[\u001b[49m\u001b[38;5;28;43mself\u001b[39;49m\u001b[38;5;241;43m.\u001b[39;49m\u001b[43mcolumns_to_keep\u001b[49m\u001b[43m]\u001b[49m\u001b[38;5;241;43m.\u001b[39;49m\u001b[43mto_dict\u001b[49m\u001b[43m(\u001b[49m\u001b[43morient\u001b[49m\u001b[38;5;241;43m=\u001b[39;49m\u001b[38;5;124;43m'\u001b[39;49m\u001b[38;5;124;43mrecords\u001b[39;49m\u001b[38;5;124;43m'\u001b[39;49m\u001b[43m)\u001b[49m\n\u001b[1;32m    153\u001b[0m \u001b[38;5;28;01melse\u001b[39;00m:\n\u001b[1;32m    154\u001b[0m     target_data \u001b[38;5;241m=\u001b[39m target_row\u001b[38;5;241m.\u001b[39mto_dict()\n",
      "File \u001b[0;32m~/.local/lib/python3.10/site-packages/pandas/util/_decorators.py:333\u001b[0m, in \u001b[0;36mdeprecate_nonkeyword_arguments.<locals>.decorate.<locals>.wrapper\u001b[0;34m(*args, **kwargs)\u001b[0m\n\u001b[1;32m    327\u001b[0m \u001b[38;5;28;01mif\u001b[39;00m \u001b[38;5;28mlen\u001b[39m(args) \u001b[38;5;241m>\u001b[39m num_allow_args:\n\u001b[1;32m    328\u001b[0m     warnings\u001b[38;5;241m.\u001b[39mwarn(\n\u001b[1;32m    329\u001b[0m         msg\u001b[38;5;241m.\u001b[39mformat(arguments\u001b[38;5;241m=\u001b[39m_format_argument_list(allow_args)),\n\u001b[1;32m    330\u001b[0m         \u001b[38;5;167;01mFutureWarning\u001b[39;00m,\n\u001b[1;32m    331\u001b[0m         stacklevel\u001b[38;5;241m=\u001b[39mfind_stack_level(),\n\u001b[1;32m    332\u001b[0m     )\n\u001b[0;32m--> 333\u001b[0m \u001b[38;5;28;01mreturn\u001b[39;00m \u001b[43mfunc\u001b[49m\u001b[43m(\u001b[49m\u001b[38;5;241;43m*\u001b[39;49m\u001b[43margs\u001b[49m\u001b[43m,\u001b[49m\u001b[43m \u001b[49m\u001b[38;5;241;43m*\u001b[39;49m\u001b[38;5;241;43m*\u001b[39;49m\u001b[43mkwargs\u001b[49m\u001b[43m)\u001b[49m\n",
      "File \u001b[0;32m~/.local/lib/python3.10/site-packages/pandas/core/frame.py:2178\u001b[0m, in \u001b[0;36mDataFrame.to_dict\u001b[0;34m(self, orient, into, index)\u001b[0m\n\u001b[1;32m   2075\u001b[0m \u001b[38;5;250m\u001b[39m\u001b[38;5;124;03m\"\"\"\u001b[39;00m\n\u001b[1;32m   2076\u001b[0m \u001b[38;5;124;03mConvert the DataFrame to a dictionary.\u001b[39;00m\n\u001b[1;32m   2077\u001b[0m \n\u001b[0;32m   (...)\u001b[0m\n\u001b[1;32m   2174\u001b[0m \u001b[38;5;124;03m defaultdict(<class 'list'>, {'col1': 2, 'col2': 0.75})]\u001b[39;00m\n\u001b[1;32m   2175\u001b[0m \u001b[38;5;124;03m\"\"\"\u001b[39;00m\n\u001b[1;32m   2176\u001b[0m \u001b[38;5;28;01mfrom\u001b[39;00m \u001b[38;5;21;01mpandas\u001b[39;00m\u001b[38;5;21;01m.\u001b[39;00m\u001b[38;5;21;01mcore\u001b[39;00m\u001b[38;5;21;01m.\u001b[39;00m\u001b[38;5;21;01mmethods\u001b[39;00m\u001b[38;5;21;01m.\u001b[39;00m\u001b[38;5;21;01mto_dict\u001b[39;00m \u001b[38;5;28;01mimport\u001b[39;00m to_dict\n\u001b[0;32m-> 2178\u001b[0m \u001b[38;5;28;01mreturn\u001b[39;00m \u001b[43mto_dict\u001b[49m\u001b[43m(\u001b[49m\u001b[38;5;28;43mself\u001b[39;49m\u001b[43m,\u001b[49m\u001b[43m \u001b[49m\u001b[43morient\u001b[49m\u001b[43m,\u001b[49m\u001b[43m \u001b[49m\u001b[43minto\u001b[49m\u001b[38;5;241;43m=\u001b[39;49m\u001b[43minto\u001b[49m\u001b[43m,\u001b[49m\u001b[43m \u001b[49m\u001b[43mindex\u001b[49m\u001b[38;5;241;43m=\u001b[39;49m\u001b[43mindex\u001b[49m\u001b[43m)\u001b[49m\n",
      "File \u001b[0;32m~/.local/lib/python3.10/site-packages/pandas/core/methods/to_dict.py:225\u001b[0m, in \u001b[0;36mto_dict\u001b[0;34m(df, orient, into, index)\u001b[0m\n\u001b[1;32m    221\u001b[0m     \u001b[38;5;28;01mreturn\u001b[39;00m [\n\u001b[1;32m    222\u001b[0m         into_c((k, maybe_box_native(v)) \u001b[38;5;28;01mfor\u001b[39;00m k, v \u001b[38;5;129;01min\u001b[39;00m row\u001b[38;5;241m.\u001b[39mitems()) \u001b[38;5;28;01mfor\u001b[39;00m row \u001b[38;5;129;01min\u001b[39;00m rows\n\u001b[1;32m    223\u001b[0m     ]\n\u001b[1;32m    224\u001b[0m \u001b[38;5;28;01melse\u001b[39;00m:\n\u001b[0;32m--> 225\u001b[0m     data \u001b[38;5;241m=\u001b[39m [\n\u001b[1;32m    226\u001b[0m         into_c(\u001b[38;5;28mzip\u001b[39m(columns, t)) \u001b[38;5;28;01mfor\u001b[39;00m t \u001b[38;5;129;01min\u001b[39;00m df\u001b[38;5;241m.\u001b[39mitertuples(index\u001b[38;5;241m=\u001b[39m\u001b[38;5;28;01mFalse\u001b[39;00m, name\u001b[38;5;241m=\u001b[39m\u001b[38;5;28;01mNone\u001b[39;00m)\n\u001b[1;32m    227\u001b[0m     ]\n\u001b[1;32m    228\u001b[0m     \u001b[38;5;28;01mif\u001b[39;00m box_native_indices:\n\u001b[1;32m    229\u001b[0m         object_dtype_indices_as_set \u001b[38;5;241m=\u001b[39m \u001b[38;5;28mset\u001b[39m(box_native_indices)\n",
      "File \u001b[0;32m~/.local/lib/python3.10/site-packages/pandas/core/methods/to_dict.py:226\u001b[0m, in \u001b[0;36m<listcomp>\u001b[0;34m(.0)\u001b[0m\n\u001b[1;32m    221\u001b[0m     \u001b[38;5;28;01mreturn\u001b[39;00m [\n\u001b[1;32m    222\u001b[0m         into_c((k, maybe_box_native(v)) \u001b[38;5;28;01mfor\u001b[39;00m k, v \u001b[38;5;129;01min\u001b[39;00m row\u001b[38;5;241m.\u001b[39mitems()) \u001b[38;5;28;01mfor\u001b[39;00m row \u001b[38;5;129;01min\u001b[39;00m rows\n\u001b[1;32m    223\u001b[0m     ]\n\u001b[1;32m    224\u001b[0m \u001b[38;5;28;01melse\u001b[39;00m:\n\u001b[1;32m    225\u001b[0m     data \u001b[38;5;241m=\u001b[39m [\n\u001b[0;32m--> 226\u001b[0m         \u001b[43minto_c\u001b[49m\u001b[43m(\u001b[49m\u001b[38;5;28;43mzip\u001b[39;49m\u001b[43m(\u001b[49m\u001b[43mcolumns\u001b[49m\u001b[43m,\u001b[49m\u001b[43m \u001b[49m\u001b[43mt\u001b[49m\u001b[43m)\u001b[49m\u001b[43m)\u001b[49m \u001b[38;5;28;01mfor\u001b[39;00m t \u001b[38;5;129;01min\u001b[39;00m df\u001b[38;5;241m.\u001b[39mitertuples(index\u001b[38;5;241m=\u001b[39m\u001b[38;5;28;01mFalse\u001b[39;00m, name\u001b[38;5;241m=\u001b[39m\u001b[38;5;28;01mNone\u001b[39;00m)\n\u001b[1;32m    227\u001b[0m     ]\n\u001b[1;32m    228\u001b[0m     \u001b[38;5;28;01mif\u001b[39;00m box_native_indices:\n\u001b[1;32m    229\u001b[0m         object_dtype_indices_as_set \u001b[38;5;241m=\u001b[39m \u001b[38;5;28mset\u001b[39m(box_native_indices)\n",
      "\u001b[0;31mKeyboardInterrupt\u001b[0m: "
     ]
    }
   ],
   "source": [
    "target_test = []\n",
    "refs_test = []\n",
    "context_test= []\n",
    "\n",
    "# Iterate through the DataLoader\n",
    "for batch in dataloader:\n",
    "    target, references, context = batch\n",
    "    target_test.extend(target)\n",
    "    refs_test.extend(references)\n",
    "    context_test.extend(context)\n"
   ]
  },
  {
   "cell_type": "code",
   "execution_count": 14,
   "id": "044eebf2-5b3c-4086-ba06-439febe9f577",
   "metadata": {},
   "outputs": [
    {
     "data": {
      "text/plain": [
       "{'target_id': 'ob015_0_f714_ob',\n",
       " 'observation': 'observation015',\n",
       " 'step_speed_mps': -0.054746194227693064,\n",
       " 'angle_to_observers': 0.2572353182827691,\n",
       " 'dist_to_observer': -1.2984295410534066,\n",
       " 'delta_observer_dist': 0.6853256219158823,\n",
       " 'road': 0,\n",
       " 'ground_slope': -1.536810753123173,\n",
       " 'viewshed_vis': 0.23588930144281803,\n",
       " 'social_dens': 1,\n",
       " 'social_vis': 5,\n",
       " 'individual_ID': '015-000',\n",
       " 'ground_unclassified': 0.0,\n",
       " 'ground_bare': 1.0,\n",
       " 'ground_grass': 0.0,\n",
       " 'ground_tree': 0.0,\n",
       " 'species_gir': 0.0,\n",
       " 'species_gz': 1.0,\n",
       " 'species_imp': 0.0,\n",
       " 'species_pz': 0.0,\n",
       " 'age_adult': 1.0,\n",
       " 'age_young': 0.0}"
      ]
     },
     "execution_count": 14,
     "metadata": {},
     "output_type": "execute_result"
    }
   ],
   "source": [
    "target_test[2]"
   ]
  },
  {
   "cell_type": "code",
   "execution_count": 15,
   "id": "2270daa3-c309-4750-a80d-0bb5aeca0a09",
   "metadata": {},
   "outputs": [
    {
     "data": {
      "text/plain": [
       "[{'target_id': 'ob015_0_f714_ob',\n",
       "  'observation': 'observation015',\n",
       "  'step_speed_mps': -0.0631384240560711,\n",
       "  'angle_to_observers': 1.895706003324101,\n",
       "  'dist_to_observer': -1.2872806611558985,\n",
       "  'delta_observer_dist': 0.9822281321140861,\n",
       "  'road': 0,\n",
       "  'ground_slope': -0.9002567582807968,\n",
       "  'viewshed_vis': 0.24954493213513076,\n",
       "  'social_dens': 1,\n",
       "  'social_vis': 5,\n",
       "  'individual_ID': '015-000',\n",
       "  'ground_unclassified': 0.0,\n",
       "  'ground_bare': 0.0,\n",
       "  'ground_grass': 1.0,\n",
       "  'ground_tree': 0.0,\n",
       "  'species_gir': 0.0,\n",
       "  'species_gz': 1.0,\n",
       "  'species_imp': 0.0,\n",
       "  'species_pz': 0.0,\n",
       "  'age_adult': 1.0,\n",
       "  'age_young': 0.0},\n",
       " {'target_id': 'ob015_0_f714_ob',\n",
       "  'observation': 'observation015',\n",
       "  'step_speed_mps': -0.06993303695044,\n",
       "  'angle_to_observers': -0.24055682757730493,\n",
       "  'dist_to_observer': -1.321326715686033,\n",
       "  'delta_observer_dist': 0.07810869022323529,\n",
       "  'road': 0,\n",
       "  'ground_slope': -1.651549019946122,\n",
       "  'viewshed_vis': 0.1668534814607805,\n",
       "  'social_dens': 1,\n",
       "  'social_vis': 6,\n",
       "  'individual_ID': '015-000',\n",
       "  'ground_unclassified': 0.0,\n",
       "  'ground_bare': 0.0,\n",
       "  'ground_grass': 1.0,\n",
       "  'ground_tree': 0.0,\n",
       "  'species_gir': 0.0,\n",
       "  'species_gz': 1.0,\n",
       "  'species_imp': 0.0,\n",
       "  'species_pz': 0.0,\n",
       "  'age_adult': 1.0,\n",
       "  'age_young': 0.0},\n",
       " {'target_id': 'ob015_0_f714_ob',\n",
       "  'observation': 'observation015',\n",
       "  'step_speed_mps': -0.06073627839845694,\n",
       "  'angle_to_observers': 0.9434604842903277,\n",
       "  'dist_to_observer': -1.2889290650226868,\n",
       "  'delta_observer_dist': 0.9382785959401856,\n",
       "  'road': 0,\n",
       "  'ground_slope': -1.2629783246363473,\n",
       "  'viewshed_vis': 0.24181088368354964,\n",
       "  'social_dens': 1,\n",
       "  'social_vis': 5,\n",
       "  'individual_ID': '015-000',\n",
       "  'ground_unclassified': 0.0,\n",
       "  'ground_bare': 1.0,\n",
       "  'ground_grass': 0.0,\n",
       "  'ground_tree': 0.0,\n",
       "  'species_gir': 0.0,\n",
       "  'species_gz': 1.0,\n",
       "  'species_imp': 0.0,\n",
       "  'species_pz': 0.0,\n",
       "  'age_adult': 1.0,\n",
       "  'age_young': 0.0},\n",
       " {'target_id': 'ob015_0_f714_ob',\n",
       "  'observation': 'observation015',\n",
       "  'step_speed_mps': -0.06113425311242684,\n",
       "  'angle_to_observers': -0.13445165135722661,\n",
       "  'dist_to_observer': -1.3148184417194748,\n",
       "  'delta_observer_dist': 0.2503552850753885,\n",
       "  'road': 0,\n",
       "  'ground_slope': -1.6409504681605476,\n",
       "  'viewshed_vis': 0.23696089653316274,\n",
       "  'social_dens': 1,\n",
       "  'social_vis': 6,\n",
       "  'individual_ID': '015-000',\n",
       "  'ground_unclassified': 0.0,\n",
       "  'ground_bare': 0.0,\n",
       "  'ground_grass': 1.0,\n",
       "  'ground_tree': 0.0,\n",
       "  'species_gir': 0.0,\n",
       "  'species_gz': 1.0,\n",
       "  'species_imp': 0.0,\n",
       "  'species_pz': 0.0,\n",
       "  'age_adult': 1.0,\n",
       "  'age_young': 0.0},\n",
       " {'target_id': 'ob015_0_f714_ob',\n",
       "  'observation': 'observation015',\n",
       "  'step_speed_mps': -0.06802236565403391,\n",
       "  'angle_to_observers': 0.3771648472046492,\n",
       "  'dist_to_observer': -1.2961971177735634,\n",
       "  'delta_observer_dist': 0.7447113534034848,\n",
       "  'road': 0,\n",
       "  'ground_slope': -1.4887874630445772,\n",
       "  'viewshed_vis': 0.2368019028762418,\n",
       "  'social_dens': 1,\n",
       "  'social_vis': 5,\n",
       "  'individual_ID': '015-000',\n",
       "  'ground_unclassified': 0.0,\n",
       "  'ground_bare': 1.0,\n",
       "  'ground_grass': 0.0,\n",
       "  'ground_tree': 0.0,\n",
       "  'species_gir': 0.0,\n",
       "  'species_gz': 1.0,\n",
       "  'species_imp': 0.0,\n",
       "  'species_pz': 0.0,\n",
       "  'age_adult': 1.0,\n",
       "  'age_young': 0.0}]"
      ]
     },
     "execution_count": 15,
     "metadata": {},
     "output_type": "execute_result"
    }
   ],
   "source": [
    "refs_test[2]"
   ]
  },
  {
   "cell_type": "code",
   "execution_count": 16,
   "id": "edc94581-e02e-45b2-86d9-200844c54648",
   "metadata": {},
   "outputs": [
    {
     "data": {
      "text/plain": [
       "[{'target_id': 'ob015_0_f509_ob',\n",
       "  'observation': 'observation015',\n",
       "  'step_speed_mps': -1.1286230499845122,\n",
       "  'angle_to_observers': -0.3184457487538329,\n",
       "  'dist_to_observer': -1.4011944384099193,\n",
       "  'delta_observer_dist': -0.045511074102986424,\n",
       "  'road': 0,\n",
       "  'ground_slope': -1.5521154295009059,\n",
       "  'viewshed_vis': 0.22038390046342546,\n",
       "  'social_dens': 0,\n",
       "  'social_vis': 4,\n",
       "  'individual_ID': '015-000',\n",
       "  'ground_unclassified': 0.0,\n",
       "  'ground_bare': 1.0,\n",
       "  'ground_grass': 0.0,\n",
       "  'ground_tree': 0.0,\n",
       "  'species_gir': 0.0,\n",
       "  'species_gz': 1.0,\n",
       "  'species_imp': 0.0,\n",
       "  'species_pz': 0.0,\n",
       "  'age_adult': 1.0,\n",
       "  'age_young': 0.0},\n",
       " {'target_id': 'ob015_0_f615_ob',\n",
       "  'observation': 'observation015',\n",
       "  'step_speed_mps': -0.1276679487924469,\n",
       "  'angle_to_observers': 0.07647215781375133,\n",
       "  'dist_to_observer': -1.3527832511271007,\n",
       "  'delta_observer_dist': 0.5122560283783996,\n",
       "  'road': 0,\n",
       "  'ground_slope': -1.5529606645285827,\n",
       "  'viewshed_vis': 0.271870422887441,\n",
       "  'social_dens': 1,\n",
       "  'social_vis': 6,\n",
       "  'individual_ID': '015-000',\n",
       "  'ground_unclassified': 0.0,\n",
       "  'ground_bare': 0.0,\n",
       "  'ground_grass': 1.0,\n",
       "  'ground_tree': 0.0,\n",
       "  'species_gir': 0.0,\n",
       "  'species_gz': 1.0,\n",
       "  'species_imp': 0.0,\n",
       "  'species_pz': 0.0,\n",
       "  'age_adult': 1.0,\n",
       "  'age_young': 0.0}]"
      ]
     },
     "execution_count": 16,
     "metadata": {},
     "output_type": "execute_result"
    }
   ],
   "source": [
    "context_test[2]"
   ]
  },
  {
   "cell_type": "code",
   "execution_count": null,
   "id": "7689e0ea-4b42-4329-82ab-5ea0a9e9cd96",
   "metadata": {},
   "outputs": [],
   "source": []
  }
 ],
 "metadata": {
  "kernelspec": {
   "display_name": "Python 3 (ipykernel)",
   "language": "python",
   "name": "python3"
  },
  "language_info": {
   "codemirror_mode": {
    "name": "ipython",
    "version": 3
   },
   "file_extension": ".py",
   "mimetype": "text/x-python",
   "name": "python",
   "nbconvert_exporter": "python",
   "pygments_lexer": "ipython3",
   "version": "3.10.12"
  }
 },
 "nbformat": 4,
 "nbformat_minor": 5
}
