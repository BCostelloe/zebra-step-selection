{
 "cells": [
  {
   "cell_type": "code",
   "execution_count": 1,
   "id": "0e29e15e-2466-4f95-a1a9-52ad6dc9c8ba",
   "metadata": {},
   "outputs": [],
   "source": [
    "import sys\n",
    "sys.path.append('../')\n",
    "\n",
    "import torch\n",
    "from torch.utils.data import Dataset, DataLoader, Sampler\n",
    "from stepselector.viewshed import generate_viewshed, generate_downsample_viewshed\n",
    "from stepselector.data_loader import ZebraDataset, ZebraBatchSampler, custom_collate\n",
    "import os\n",
    "import glob\n",
    "import pandas as pd\n",
    "from osgeo import gdal\n",
    "import numpy as np\n",
    "gdal.UseExceptions()"
   ]
  },
  {
   "cell_type": "code",
   "execution_count": 2,
   "id": "d71a0f8c-892b-4cc7-86f9-5392f90523b6",
   "metadata": {},
   "outputs": [],
   "source": [
    "# Change server_mount for your system\n",
    "server_mount = '/home/blair/server/herd_hover'\n",
    "\n",
    "# Specify radius of viewshed (in meters)\n",
    "viewshed_radius = 100\n",
    "# Specify height/width of downsampled viewshed (e.g. 512 will return an array of 512x512 pixels\n",
    "viewshed_hw = 512\n",
    "# Specify radius (in meters) to define social density (number of conspecifics within radius)\n",
    "social_radius = 10\n",
    "\n",
    "# How many reference steps do you want per target step? (max = 20)\n",
    "n_ref_steps = 5\n",
    "\n",
    "\n",
    "# Make list of columns to keep - these will be fetched by the dataloader\n",
    "columns_to_keep = ['angle_to_observers', 'dist_to_observer', 'delta_observer_dist', 'road', 'ground_slope', 'visibility', 'social_dens', 'social_vis']"
   ]
  },
  {
   "cell_type": "code",
   "execution_count": 3,
   "id": "d5085278-babf-489c-bb8d-b0511e367170",
   "metadata": {},
   "outputs": [],
   "source": [
    "# Define data directories\n",
    "data_folder = os.path.join(server_mount, 'zebra_movement_data')\n",
    "observed_steps_directory = os.path.join(data_folder, 'five_meter_steps', 'observed')\n",
    "simulated_steps_directory = os.path.join(data_folder, 'five_meter_steps', 'simulated')\n",
    "rasters_directory = os.path.join(data_folder, 'rasters')\n",
    "ob_metadata_file = os.path.join(data_folder, 'observation_metadata.csv')\n",
    "track_metadata_file = os.path.join(data_folder, 'track_metadata.csv')"
   ]
  },
  {
   "cell_type": "code",
   "execution_count": 4,
   "id": "41b269eb-56ee-49b9-87bb-31d89a46eeb3",
   "metadata": {},
   "outputs": [],
   "source": [
    "dataset = ZebraDataset(target_dir = observed_steps_directory,\n",
    "                       reference_dir = simulated_steps_directory,\n",
    "                       rasters_dir = rasters_directory,\n",
    "                       ob_metadata_file = ob_metadata_file,\n",
    "                       viewshed_radius = viewshed_radius,\n",
    "                       viewshed_hw = viewshed_hw,\n",
    "                       social_radius = social_radius,\n",
    "                       threads = 4,\n",
    "                       n_ref_steps = n_ref_steps,\n",
    "                       columns_to_keep = columns_to_keep)"
   ]
  },
  {
   "cell_type": "code",
   "execution_count": 5,
   "id": "5ea78e7e-9fbd-44e2-9f68-2b532cc27d1c",
   "metadata": {},
   "outputs": [],
   "source": [
    "batch_sampler = ZebraBatchSampler(dataset)"
   ]
  },
  {
   "cell_type": "code",
   "execution_count": 6,
   "id": "3c93fdf1-dd83-4c8c-bdc3-a710de73fda9",
   "metadata": {},
   "outputs": [],
   "source": [
    "dataloader = DataLoader(dataset, batch_sampler = batch_sampler, collate_fn = custom_collate)"
   ]
  },
  {
   "cell_type": "code",
   "execution_count": null,
   "id": "bd204ba5-3b9a-40ea-bfff-9aa127646044",
   "metadata": {},
   "outputs": [],
   "source": [
    "for batch in dataloader:\n",
    "    target, references = batch\n",
    "    print(f\"Target: {target}\")\n",
    "    print(f\"References: {references}\")\n",
    "    "
   ]
  }
 ],
 "metadata": {
  "kernelspec": {
   "display_name": "Python (GDAL 3.9.0)",
   "language": "python",
   "name": "gdal390"
  },
  "language_info": {
   "codemirror_mode": {
    "name": "ipython",
    "version": 3
   },
   "file_extension": ".py",
   "mimetype": "text/x-python",
   "name": "python",
   "nbconvert_exporter": "python",
   "pygments_lexer": "ipython3",
   "version": "3.10.12"
  }
 },
 "nbformat": 4,
 "nbformat_minor": 5
}
