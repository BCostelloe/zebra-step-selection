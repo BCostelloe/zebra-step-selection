{
 "cells": [
  {
   "cell_type": "markdown",
   "id": "f6870686-9229-4777-a92e-9a1eb3c11733",
   "metadata": {},
   "source": [
    "### Import packages and set global variables"
   ]
  },
  {
   "cell_type": "code",
   "execution_count": 12,
   "id": "6adc3892-62c4-44fd-8f9c-50fec869c50f",
   "metadata": {},
   "outputs": [],
   "source": [
    "import sys\n",
    "sys.path.append('../')\n",
    "\n",
    "from stepselector.data_loader import ZebraDataset, ZebraBatchSampler, custom_collate\n",
    "from torch.utils.data import Dataset, DataLoader, Sampler\n",
    "import numpy as np\n",
    "import pandas as pd\n",
    "from sklearn.linear_model import LogisticRegression\n",
    "from sklearn.model_selection import train_test_split\n",
    "from sklearn.metrics import accuracy_score\n",
    "from sklearn.impute import SimpleImputer\n",
    "from concurrent.futures import ThreadPoolExecutor, as_completed\n",
    "import os\n",
    "import joblib\n",
    "from osgeo import gdal\n",
    "from tqdm.notebook import tqdm\n",
    "\n",
    "gdal.UseExceptions()"
   ]
  },
  {
   "cell_type": "markdown",
   "id": "e12029a6-0a0d-4f23-ab07-a7ea56a69c43",
   "metadata": {},
   "source": [
    "### Set variables for data loader and file saving"
   ]
  },
  {
   "cell_type": "code",
   "execution_count": 13,
   "id": "5490bef1-76d3-413c-8543-c4e9c616e619",
   "metadata": {},
   "outputs": [],
   "source": [
    "# Change server_mount for your system\n",
    "server_mount = '/home/blair/server/herd_hover'\n",
    "\n",
    "# Do you want to load five meter steps or ten meter steps?\n",
    "step_length = 'ten'\n",
    "\n",
    "# Specify radius of viewshed (in meters)\n",
    "viewshed_radius = 30\n",
    "# Specify height/width of downsampled viewshed (e.g. 512 will return an array of 512x512 pixels\n",
    "viewshed_hw = 512\n",
    "# Specify radius (in meters) to define social density (number of conspecifics within radius)\n",
    "social_radius = 10\n",
    "\n",
    "# How many fake steps to use per real step? (max 20)\n",
    "n_ref_steps = 5\n",
    "\n",
    "# how many threads to use for viewshed generation? (used 1 before, 4 should be faster)\n",
    "n_threads = 1\n",
    "\n",
    "# Make list of columns to keep - these will be fetched by the dataloader\n",
    "columns_to_keep = ['target_id',\n",
    "                   'observation',\n",
    "                   'step_speed_mps',\n",
    "                   'angle_to_observers', \n",
    "                   'dist_to_observer', \n",
    "                   'delta_observer_dist', \n",
    "                   'road', \n",
    "                   'ground_class',\n",
    "                   'ground_slope', \n",
    "                   'visibility', \n",
    "                   'social_dens', \n",
    "                   'social_vis',\n",
    "                   'age_class',\n",
    "                   'species',\n",
    "                   'individual_ID']\n",
    "\n",
    "# Filename for loaded data\n",
    "filename = 'loaded_data_%smsteps.csv' %step_length"
   ]
  },
  {
   "cell_type": "code",
   "execution_count": 14,
   "id": "170c4c14-6378-4084-97c2-1808df064a53",
   "metadata": {},
   "outputs": [],
   "source": [
    "# Define data directories\n",
    "data_folder = os.path.join(server_mount, 'zebra_movement_data')\n",
    "\n",
    "# For five meter steps:\n",
    "observed_steps_directory = os.path.join(data_folder, '%s_meter_steps' %step_length, 'observed')\n",
    "simulated_steps_directory = os.path.join(data_folder, '%s_meter_steps' %step_length, 'simulated')\n",
    "\n",
    "\n",
    "rasters_directory = os.path.join(data_folder, 'rasters')\n",
    "ob_metadata_file = os.path.join(data_folder, 'observation_metadata.csv')\n",
    "track_metadata_file = os.path.join(data_folder, 'track_metadata.csv')"
   ]
  },
  {
   "cell_type": "markdown",
   "id": "32ed5bf9-0537-426a-adbf-f28d89f0e76c",
   "metadata": {},
   "source": [
    "### Load data"
   ]
  },
  {
   "cell_type": "code",
   "execution_count": 15,
   "id": "85abda59-3fd8-49f8-a8ea-b5c9caa580b2",
   "metadata": {},
   "outputs": [],
   "source": [
    "dataset = ZebraDataset(target_dir = observed_steps_directory,\n",
    "                       reference_dir = simulated_steps_directory,\n",
    "                       rasters_dir = rasters_directory,\n",
    "                       ob_metadata_file = ob_metadata_file,\n",
    "                       viewshed_radius = viewshed_radius,\n",
    "                       viewshed_hw = viewshed_hw,\n",
    "                       social_radius = social_radius,\n",
    "                       num_ref_steps = n_ref_steps,\n",
    "                       threads = n_threads,\n",
    "                       columns_to_keep = columns_to_keep)\n",
    "\n",
    "batch_sampler = ZebraBatchSampler(dataset)\n",
    "dataloader = DataLoader(dataset, batch_sampler = batch_sampler, collate_fn = custom_collate, num_workers = 18)"
   ]
  },
  {
   "cell_type": "code",
   "execution_count": 16,
   "id": "41e13085-a23b-483d-8e52-bd7e2647789f",
   "metadata": {},
   "outputs": [],
   "source": [
    "def process_batch(batch):\n",
    "    target, references = batch\n",
    "    \n",
    "    target_data = target[0]\n",
    "    target_features = [\n",
    "        target_data['target_id'],\n",
    "        target_data['observation'],\n",
    "        target_data['step_speed_mps'],\n",
    "        target_data['angle_to_observers'],\n",
    "        target_data['dist_to_observer'],\n",
    "        target_data['delta_observer_dist'],\n",
    "        target_data['road'],\n",
    "        target_data['ground_class'],\n",
    "        target_data['ground_slope'],\n",
    "        target_data['visibility'],\n",
    "        target_data['social_dens'],\n",
    "        target_data['social_vis'],\n",
    "        target_data['age_class'],\n",
    "        target_data['species'],\n",
    "        target_data['individual_ID']\n",
    "    ]\n",
    "    labels = [1]\n",
    "\n",
    "    ref_features = []\n",
    "    for ref in references[0]:\n",
    "        ref_features.append([\n",
    "            ref['target_id'],\n",
    "            ref['observation'],\n",
    "            ref['step_speed_mps'],\n",
    "            ref['angle_to_observers'],\n",
    "            ref['dist_to_observer'],\n",
    "            ref['delta_observer_dist'],\n",
    "            ref['road'],\n",
    "            ref['ground_class'],\n",
    "            ref['ground_slope'],\n",
    "            ref['visibility'],\n",
    "            ref['social_dens'],\n",
    "            ref['social_vis'],\n",
    "            ref['age_class'],\n",
    "            ref['species'],\n",
    "            ref['individual_ID']\n",
    "        ])\n",
    "        labels.append(0)\n",
    "\n",
    "    return target_features, ref_features, labels"
   ]
  },
  {
   "cell_type": "code",
   "execution_count": 17,
   "id": "2642bac7-c66f-49ca-bb7c-471928747b82",
   "metadata": {},
   "outputs": [
    {
     "data": {
      "application/vnd.jupyter.widget-view+json": {
       "model_id": "54ffc4f459714f0f96ab96f8c85fb7fb",
       "version_major": 2,
       "version_minor": 0
      },
      "text/plain": [
       "  0%|          | 0/3968 [00:00<?, ?it/s]"
      ]
     },
     "metadata": {},
     "output_type": "display_data"
    }
   ],
   "source": [
    "features = []\n",
    "labels = []\n",
    "\n",
    "for batch in tqdm(dataloader):\n",
    "    target_features, ref_features, batch_labels = process_batch(batch)\n",
    "    features.append(target_features)\n",
    "    features.extend(ref_features)\n",
    "    labels.extend(batch_labels)\n",
    "\n",
    "df_features = pd.DataFrame(features)\n",
    "df_labels = pd.Series(labels, name = 'label')\n",
    "\n",
    "df = pd.concat([df_features, df_labels], axis =1)"
   ]
  },
  {
   "cell_type": "code",
   "execution_count": 18,
   "id": "50393fcc-1864-4a89-a641-a34a4a7a0590",
   "metadata": {},
   "outputs": [],
   "source": [
    "# Save loaded data - temporarily until I get the transformations and scaling finalized\n",
    "df.to_csv(os.path.join(data_folder, filename))"
   ]
  },
  {
   "cell_type": "markdown",
   "id": "d608f122-fea4-415b-9b87-8b11f780ebd3",
   "metadata": {},
   "source": [
    "### Transform, encode, and scale features\n",
    "Features **social_dens** and **social_vis** will need ordinal embedding implemented in the model\n",
    "\n",
    "Features **observation** and **individual_ID** will need word embedding in the model"
   ]
  },
  {
   "cell_type": "code",
   "execution_count": null,
   "id": "ce49cec8-c7d7-404d-94ba-b3c85f6533c4",
   "metadata": {},
   "outputs": [],
   "source": [
    "# Initialize encoders\n",
    "onehot_encode = OneHotEncoder(sparse_output = False)"
   ]
  },
  {
   "cell_type": "code",
   "execution_count": null,
   "id": "ced3b965-3626-4eca-8834-8b9dc551747a",
   "metadata": {},
   "outputs": [],
   "source": [
    "# Transform data\n",
    "\n",
    "# log transform step_speed_mps\n",
    "data['step_speed_mps'] = np.log1p(data['step_speed_mps'])\n",
    "\n",
    "# convert angle_to_observer to proportion (divide by 180)\n",
    "data['angle_to_observer'] = data['angle_to_observer']/180\n",
    "\n",
    "# logit transform angle_to_observer\n",
    "data['angle_to_observer'] = logit(data['angle_to_observer'])\n",
    "\n",
    "# log transform dist_to_observer\n",
    "data['dist_to_observer'] = np.log1p(data['dist_to_observer'])\n",
    "\n",
    "# one-hot encode ground_class\n",
    "ground_class_df = data[['ground_class']].copy()\n",
    "ground_class_onehot = onehot_encode.fit_transform(ground_class_df)\n",
    "data['ground_unclassified'] = ground_class_onehot[:,0]\n",
    "data['ground_bare'] = ground_class_onehot[:,1]\n",
    "data['ground_grass'] = ground_class_onehot[:,2]\n",
    "data['ground_tree'] = ground_class_onehot[:,3]\n",
    "data.drop(['ground_class'], axis = 1, inplace = True)\n",
    "\n",
    "# one-hot encode species\n",
    "species_df = data[['species']].copy()\n",
    "species_onehot = onehot_encode.fit_transform(species_df)\n",
    "species = np.unique(data.species)\n",
    "for n,i in enumerate(species):\n",
    "    data['spp_%s' % i] = species_onehot[:,n]\n",
    "data.drop(['species'], axis = 1, inplace = True)\n",
    "\n",
    "# one-hot encode age_class\n",
    "age_class_df = data[['age_class']].copy()\n",
    "age_class_onehot = onehot_encode.fit_transform(age_class_df)\n",
    "classes = np.unique(data.age_class)\n",
    "for n,i in enumerate(classes):\n",
    "    data['age_%s' % i] = age_class_onehot[:,n]\n",
    "data.drop(['age_class'], axis = 1, inplace = True)\n",
    "\n",
    "# logit transform visibility\n",
    "data['visibility'] = logit(data['visibility'])"
   ]
  },
  {
   "cell_type": "code",
   "execution_count": null,
   "id": "0e38f61d-21e3-4d92-b4d4-eae0b65a2209",
   "metadata": {},
   "outputs": [],
   "source": [
    "# function for Z-scoring that uses only observed steps (label = 1) to define mean and standard deviation\n",
    "def Zscore(colname, df):\n",
    "    obs_df = df[df['label'] == 1].copy()\n",
    "    mean = np.mean(obs_df[colname])\n",
    "    std = np.std(obs_df[colname])\n",
    "    df[colname] = [(x-mean)/std for x in df[colname]]"
   ]
  },
  {
   "cell_type": "code",
   "execution_count": null,
   "id": "1eb8c6e5-0510-41fd-8c4b-7f2ddee087b1",
   "metadata": {},
   "outputs": [],
   "source": [
    "# Scale data\n",
    "\n",
    "# Z-score step_speed_mps\n",
    "Zscore('step_speed_mps', data)\n",
    "\n",
    "# Z-score angle_to_observer\n",
    "Zscore('angle_to_observer', data)\n",
    "#data['angle_to_observer'] = Zscore.fit_transform(data[['angle_to_observer']])\n",
    "\n",
    "# Z-score dist_to_observer\n",
    "Zscore('dist_to_observer', data)\n",
    "#data['dist_to_observer'] = Zscore.fit_transform(data[['dist_to_observer']])\n",
    "\n",
    "# Z-score delta_observer_dist\n",
    "Zscore('delta_observer_dist', data)\n",
    "#data['delta_observer_dist'] = Zscore.fit_transform(data[['delta_observer_dist']])\n",
    "\n",
    "# Z-score ground_slope\n",
    "Zscore('ground_slope', data)\n",
    "#data['ground_slope'] = Zscore.fit_transform(data[['ground_slope']])\n",
    "\n",
    "# Z-score visibility\n",
    "Zscore('visibility', data)\n",
    "#data['visibility'] = Zscore.fit_transform(data[['visibility']])"
   ]
  },
  {
   "cell_type": "markdown",
   "id": "8b3e0491-4314-4c97-8635-cb2599d0d09e",
   "metadata": {},
   "source": [
    "### Save loaded data"
   ]
  },
  {
   "cell_type": "code",
   "execution_count": null,
   "id": "4e524969-1bc9-43a8-8f4b-4989ba0bcbe3",
   "metadata": {},
   "outputs": [],
   "source": [
    "# Save loaded data\n",
    "df.to_csv(os.path.join(data_folder, filename))"
   ]
  }
 ],
 "metadata": {
  "kernelspec": {
   "display_name": "Python (GDAL 3.9.0)",
   "language": "python",
   "name": "gdal390"
  },
  "language_info": {
   "codemirror_mode": {
    "name": "ipython",
    "version": 3
   },
   "file_extension": ".py",
   "mimetype": "text/x-python",
   "name": "python",
   "nbconvert_exporter": "python",
   "pygments_lexer": "ipython3",
   "version": "3.10.12"
  }
 },
 "nbformat": 4,
 "nbformat_minor": 5
}
