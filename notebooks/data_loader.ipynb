{
 "cells": [
  {
   "cell_type": "code",
   "execution_count": 1,
   "id": "0e29e15e-2466-4f95-a1a9-52ad6dc9c8ba",
   "metadata": {},
   "outputs": [],
   "source": [
    "import sys\n",
    "sys.path.append('../')\n",
    "\n",
    "import torch\n",
    "from torch.utils.data import Dataset, DataLoader, Sampler\n",
    "from stepselector.viewshed import generate_viewshed, generate_downsample_viewshed\n",
    "from stepselector.data_loader import ZebraDataset, ZebraBatchSampler, custom_collate\n",
    "import os\n",
    "import glob\n",
    "import pandas as pd\n",
    "from osgeo import gdal\n",
    "import numpy as np\n",
    "gdal.UseExceptions()"
   ]
  },
  {
   "cell_type": "code",
   "execution_count": 2,
   "id": "d71a0f8c-892b-4cc7-86f9-5392f90523b6",
   "metadata": {},
   "outputs": [],
   "source": [
    "# Change server_mount for your system\n",
    "server_mount = '/home/blair/server/herd_hover'\n",
    "\n",
    "# Specify radius of viewshed (in meters)\n",
    "viewshed_radius = 100\n",
    "# Specify height/width of downsampled viewshed (e.g. 512 will return an array of 512x512 pixels\n",
    "viewshed_hw = 512\n",
    "# Specify radius (in meters) to define social density (number of conspecifics within radius)\n",
    "social_radius = 10\n",
    "\n",
    "\n",
    "# Make list of columns to keep - these will be fetched by the dataloader\n",
    "columns_to_keep = ['angle_to_observers', 'dist_to_observer', 'delta_observer_dist', 'road', 'ground_slope', 'visibility', 'social_dens', 'social_vis']"
   ]
  },
  {
   "cell_type": "code",
   "execution_count": 3,
   "id": "d5085278-babf-489c-bb8d-b0511e367170",
   "metadata": {},
   "outputs": [],
   "source": [
    "# Define data directories\n",
    "data_folder = os.path.join(server_mount, 'zebra_movement_data')\n",
    "observed_steps_directory = os.path.join(data_folder, 'five_meter_steps', 'observed')\n",
    "simulated_steps_directory = os.path.join(data_folder, 'five_meter_steps', 'simulated')\n",
    "rasters_directory = os.path.join(data_folder, 'rasters')\n",
    "ob_metadata_file = os.path.join(data_folder, 'observation_metadata.csv')\n",
    "track_metadata_file = os.path.join(data_folder, 'track_metadata.csv')"
   ]
  },
  {
   "cell_type": "code",
   "execution_count": 4,
   "id": "41b269eb-56ee-49b9-87bb-31d89a46eeb3",
   "metadata": {},
   "outputs": [],
   "source": [
    "dataset = ZebraDataset(target_dir = observed_steps_directory,\n",
    "                       reference_dir = simulated_steps_directory,\n",
    "                       rasters_dir = rasters_directory,\n",
    "                       ob_metadata_file = ob_metadata_file,\n",
    "                       viewshed_radius = viewshed_radius,\n",
    "                       viewshed_hw = viewshed_hw,\n",
    "                       social_radius = social_radius,\n",
    "                       threads = 4,\n",
    "                       columns_to_keep = columns_to_keep)"
   ]
  },
  {
   "cell_type": "code",
   "execution_count": 5,
   "id": "5ea78e7e-9fbd-44e2-9f68-2b532cc27d1c",
   "metadata": {},
   "outputs": [],
   "source": [
    "batch_sampler = ZebraBatchSampler(dataset)"
   ]
  },
  {
   "cell_type": "code",
   "execution_count": 6,
   "id": "3c93fdf1-dd83-4c8c-bdc3-a710de73fda9",
   "metadata": {},
   "outputs": [],
   "source": [
    "dataloader = DataLoader(dataset, batch_sampler = batch_sampler, collate_fn = custom_collate)"
   ]
  },
  {
   "cell_type": "code",
   "execution_count": 7,
   "id": "e3996e7c-c65a-4b90-94b0-07c23214e2f0",
   "metadata": {},
   "outputs": [
    {
     "name": "stdout",
     "output_type": "stream",
     "text": [
      "Target: ({'angle_to_observers': 130.12892974936136, 'dist_to_observer': 312.37384939314285, 'delta_observer_dist': 3.2511194422284007, 'road': 0, 'ground_slope': -4.389323239548323, 'visibility': 0.05335936891160919, 'social_dens': 1, 'social_vis': 0.7},)\n",
      "References: ([{'angle_to_observers': nan, 'dist_to_observer': 313.3539988132648, 'delta_observer_dist': nan, 'road': 0, 'ground_slope': nan, 'visibility': 0.051937028399051524, 'social_dens': 1, 'social_vis': 0.7}, {'angle_to_observers': nan, 'dist_to_observer': 313.2785181790147, 'delta_observer_dist': nan, 'road': 0, 'ground_slope': nan, 'visibility': 0.05215696852583555, 'social_dens': 1, 'social_vis': 0.7}, {'angle_to_observers': nan, 'dist_to_observer': 313.0870001631425, 'delta_observer_dist': nan, 'road': 0, 'ground_slope': nan, 'visibility': 0.052371328292431435, 'social_dens': 1, 'social_vis': 0.7}, {'angle_to_observers': nan, 'dist_to_observer': 311.5172441389862, 'delta_observer_dist': nan, 'road': 0, 'ground_slope': nan, 'visibility': 0.05482272595173263, 'social_dens': 2, 'social_vis': 0.7}, {'angle_to_observers': nan, 'dist_to_observer': 311.39411695066207, 'delta_observer_dist': nan, 'road': 0, 'ground_slope': nan, 'visibility': 0.05477848795440525, 'social_dens': 2, 'social_vis': 0.7}],)\n",
      "Target: ({'angle_to_observers': 107.94945019501849, 'dist_to_observer': 313.97164322161893, 'delta_observer_dist': 1.5977938284760853, 'road': 0, 'ground_slope': -4.415827191390679, 'visibility': 0.06168653377581658, 'social_dens': 1, 'social_vis': 0.7777777777777778},)\n",
      "References: ([{'angle_to_observers': 127.7231391442668, 'dist_to_observer': 315.51225934880773, 'delta_observer_dist': 3.1384099556648835, 'road': 0, 'ground_slope': -4.606539862763841, 'visibility': 0.0621038109300737, 'social_dens': 1, 'social_vis': 0.5555555555555556}, {'angle_to_observers': 94.10878632900267, 'dist_to_observer': 312.7761104329764, 'delta_observer_dist': 0.40226103983354733, 'road': 0, 'ground_slope': -4.128244293811587, 'visibility': 0.062183291454519826, 'social_dens': 1, 'social_vis': 0.7777777777777778}, {'angle_to_observers': 114.99493969236941, 'dist_to_observer': 314.5195014203536, 'delta_observer_dist': 2.145652027210758, 'road': 0, 'ground_slope': -4.652753112571489, 'visibility': 0.061435681622249085, 'social_dens': 1, 'social_vis': 0.6666666666666666}, {'angle_to_observers': 111.80535253315726, 'dist_to_observer': 314.2679691307098, 'delta_observer_dist': 1.894119737566939, 'road': 0, 'ground_slope': -4.530676402841471, 'visibility': 0.06156920538258659, 'social_dens': 1, 'social_vis': 0.7777777777777778}, {'angle_to_observers': 99.22284931622477, 'dist_to_observer': 313.2171314676429, 'delta_observer_dist': 0.8432820745000527, 'road': 0, 'ground_slope': -4.2745160237029305, 'visibility': 0.061651432077977034, 'social_dens': 1, 'social_vis': 0.6666666666666666}],)\n"
     ]
    },
    {
     "ename": "KeyboardInterrupt",
     "evalue": "",
     "output_type": "error",
     "traceback": [
      "\u001b[0;31m---------------------------------------------------------------------------\u001b[0m",
      "\u001b[0;31mKeyboardInterrupt\u001b[0m                         Traceback (most recent call last)",
      "Cell \u001b[0;32mIn[7], line 1\u001b[0m\n\u001b[0;32m----> 1\u001b[0m \u001b[38;5;28;01mfor\u001b[39;00m batch \u001b[38;5;129;01min\u001b[39;00m dataloader:\n\u001b[1;32m      2\u001b[0m     target, references \u001b[38;5;241m=\u001b[39m batch\n\u001b[1;32m      3\u001b[0m     \u001b[38;5;28mprint\u001b[39m(\u001b[38;5;124mf\u001b[39m\u001b[38;5;124m\"\u001b[39m\u001b[38;5;124mTarget: \u001b[39m\u001b[38;5;132;01m{\u001b[39;00mtarget\u001b[38;5;132;01m}\u001b[39;00m\u001b[38;5;124m\"\u001b[39m)\n",
      "File \u001b[0;32m~/.local/lib/python3.10/site-packages/torch/utils/data/dataloader.py:631\u001b[0m, in \u001b[0;36m_BaseDataLoaderIter.__next__\u001b[0;34m(self)\u001b[0m\n\u001b[1;32m    628\u001b[0m \u001b[38;5;28;01mif\u001b[39;00m \u001b[38;5;28mself\u001b[39m\u001b[38;5;241m.\u001b[39m_sampler_iter \u001b[38;5;129;01mis\u001b[39;00m \u001b[38;5;28;01mNone\u001b[39;00m:\n\u001b[1;32m    629\u001b[0m     \u001b[38;5;66;03m# TODO(https://github.com/pytorch/pytorch/issues/76750)\u001b[39;00m\n\u001b[1;32m    630\u001b[0m     \u001b[38;5;28mself\u001b[39m\u001b[38;5;241m.\u001b[39m_reset()  \u001b[38;5;66;03m# type: ignore[call-arg]\u001b[39;00m\n\u001b[0;32m--> 631\u001b[0m data \u001b[38;5;241m=\u001b[39m \u001b[38;5;28;43mself\u001b[39;49m\u001b[38;5;241;43m.\u001b[39;49m\u001b[43m_next_data\u001b[49m\u001b[43m(\u001b[49m\u001b[43m)\u001b[49m\n\u001b[1;32m    632\u001b[0m \u001b[38;5;28mself\u001b[39m\u001b[38;5;241m.\u001b[39m_num_yielded \u001b[38;5;241m+\u001b[39m\u001b[38;5;241m=\u001b[39m \u001b[38;5;241m1\u001b[39m\n\u001b[1;32m    633\u001b[0m \u001b[38;5;28;01mif\u001b[39;00m \u001b[38;5;28mself\u001b[39m\u001b[38;5;241m.\u001b[39m_dataset_kind \u001b[38;5;241m==\u001b[39m _DatasetKind\u001b[38;5;241m.\u001b[39mIterable \u001b[38;5;129;01mand\u001b[39;00m \\\n\u001b[1;32m    634\u001b[0m         \u001b[38;5;28mself\u001b[39m\u001b[38;5;241m.\u001b[39m_IterableDataset_len_called \u001b[38;5;129;01mis\u001b[39;00m \u001b[38;5;129;01mnot\u001b[39;00m \u001b[38;5;28;01mNone\u001b[39;00m \u001b[38;5;129;01mand\u001b[39;00m \\\n\u001b[1;32m    635\u001b[0m         \u001b[38;5;28mself\u001b[39m\u001b[38;5;241m.\u001b[39m_num_yielded \u001b[38;5;241m>\u001b[39m \u001b[38;5;28mself\u001b[39m\u001b[38;5;241m.\u001b[39m_IterableDataset_len_called:\n",
      "File \u001b[0;32m~/.local/lib/python3.10/site-packages/torch/utils/data/dataloader.py:675\u001b[0m, in \u001b[0;36m_SingleProcessDataLoaderIter._next_data\u001b[0;34m(self)\u001b[0m\n\u001b[1;32m    673\u001b[0m \u001b[38;5;28;01mdef\u001b[39;00m \u001b[38;5;21m_next_data\u001b[39m(\u001b[38;5;28mself\u001b[39m):\n\u001b[1;32m    674\u001b[0m     index \u001b[38;5;241m=\u001b[39m \u001b[38;5;28mself\u001b[39m\u001b[38;5;241m.\u001b[39m_next_index()  \u001b[38;5;66;03m# may raise StopIteration\u001b[39;00m\n\u001b[0;32m--> 675\u001b[0m     data \u001b[38;5;241m=\u001b[39m \u001b[38;5;28;43mself\u001b[39;49m\u001b[38;5;241;43m.\u001b[39;49m\u001b[43m_dataset_fetcher\u001b[49m\u001b[38;5;241;43m.\u001b[39;49m\u001b[43mfetch\u001b[49m\u001b[43m(\u001b[49m\u001b[43mindex\u001b[49m\u001b[43m)\u001b[49m  \u001b[38;5;66;03m# may raise StopIteration\u001b[39;00m\n\u001b[1;32m    676\u001b[0m     \u001b[38;5;28;01mif\u001b[39;00m \u001b[38;5;28mself\u001b[39m\u001b[38;5;241m.\u001b[39m_pin_memory:\n\u001b[1;32m    677\u001b[0m         data \u001b[38;5;241m=\u001b[39m _utils\u001b[38;5;241m.\u001b[39mpin_memory\u001b[38;5;241m.\u001b[39mpin_memory(data, \u001b[38;5;28mself\u001b[39m\u001b[38;5;241m.\u001b[39m_pin_memory_device)\n",
      "File \u001b[0;32m~/.local/lib/python3.10/site-packages/torch/utils/data/_utils/fetch.py:51\u001b[0m, in \u001b[0;36m_MapDatasetFetcher.fetch\u001b[0;34m(self, possibly_batched_index)\u001b[0m\n\u001b[1;32m     49\u001b[0m         data \u001b[38;5;241m=\u001b[39m \u001b[38;5;28mself\u001b[39m\u001b[38;5;241m.\u001b[39mdataset\u001b[38;5;241m.\u001b[39m__getitems__(possibly_batched_index)\n\u001b[1;32m     50\u001b[0m     \u001b[38;5;28;01melse\u001b[39;00m:\n\u001b[0;32m---> 51\u001b[0m         data \u001b[38;5;241m=\u001b[39m [\u001b[38;5;28mself\u001b[39m\u001b[38;5;241m.\u001b[39mdataset[idx] \u001b[38;5;28;01mfor\u001b[39;00m idx \u001b[38;5;129;01min\u001b[39;00m possibly_batched_index]\n\u001b[1;32m     52\u001b[0m \u001b[38;5;28;01melse\u001b[39;00m:\n\u001b[1;32m     53\u001b[0m     data \u001b[38;5;241m=\u001b[39m \u001b[38;5;28mself\u001b[39m\u001b[38;5;241m.\u001b[39mdataset[possibly_batched_index]\n",
      "File \u001b[0;32m~/.local/lib/python3.10/site-packages/torch/utils/data/_utils/fetch.py:51\u001b[0m, in \u001b[0;36m<listcomp>\u001b[0;34m(.0)\u001b[0m\n\u001b[1;32m     49\u001b[0m         data \u001b[38;5;241m=\u001b[39m \u001b[38;5;28mself\u001b[39m\u001b[38;5;241m.\u001b[39mdataset\u001b[38;5;241m.\u001b[39m__getitems__(possibly_batched_index)\n\u001b[1;32m     50\u001b[0m     \u001b[38;5;28;01melse\u001b[39;00m:\n\u001b[0;32m---> 51\u001b[0m         data \u001b[38;5;241m=\u001b[39m [\u001b[38;5;28;43mself\u001b[39;49m\u001b[38;5;241;43m.\u001b[39;49m\u001b[43mdataset\u001b[49m\u001b[43m[\u001b[49m\u001b[43midx\u001b[49m\u001b[43m]\u001b[49m \u001b[38;5;28;01mfor\u001b[39;00m idx \u001b[38;5;129;01min\u001b[39;00m possibly_batched_index]\n\u001b[1;32m     52\u001b[0m \u001b[38;5;28;01melse\u001b[39;00m:\n\u001b[1;32m     53\u001b[0m     data \u001b[38;5;241m=\u001b[39m \u001b[38;5;28mself\u001b[39m\u001b[38;5;241m.\u001b[39mdataset[possibly_batched_index]\n",
      "File \u001b[0;32m~/fine-scale-movement/notebooks/../stepselector/data_loader.py:51\u001b[0m, in \u001b[0;36mZebraDataset.__getitem__\u001b[0;34m(self, idx)\u001b[0m\n\u001b[1;32m     48\u001b[0m observation_name \u001b[38;5;241m=\u001b[39m \u001b[38;5;124m'\u001b[39m\u001b[38;5;124mobservation\u001b[39m\u001b[38;5;124m'\u001b[39m \u001b[38;5;241m+\u001b[39m target_id\u001b[38;5;241m.\u001b[39msplit(\u001b[38;5;124m'\u001b[39m\u001b[38;5;124m_\u001b[39m\u001b[38;5;124m'\u001b[39m)[\u001b[38;5;241m0\u001b[39m]\u001b[38;5;241m.\u001b[39msplit(\u001b[38;5;124m'\u001b[39m\u001b[38;5;124mb\u001b[39m\u001b[38;5;124m'\u001b[39m)[\u001b[38;5;241m1\u001b[39m]\n\u001b[1;32m     50\u001b[0m \u001b[38;5;66;03m# Generate and downsample viewshed\u001b[39;00m\n\u001b[0;32m---> 51\u001b[0m target_vis, target_vis_array \u001b[38;5;241m=\u001b[39m \u001b[43mgenerate_downsample_viewshed\u001b[49m\u001b[43m(\u001b[49m\u001b[43mdata_row\u001b[49m\u001b[43m \u001b[49m\u001b[38;5;241;43m=\u001b[39;49m\u001b[43m \u001b[49m\u001b[43mtarget_row\u001b[49m\u001b[43m,\u001b[49m\n\u001b[1;32m     52\u001b[0m \u001b[43m                                                            \u001b[49m\u001b[43mradius\u001b[49m\u001b[43m \u001b[49m\u001b[38;5;241;43m=\u001b[39;49m\u001b[43m \u001b[49m\u001b[38;5;28;43mself\u001b[39;49m\u001b[38;5;241;43m.\u001b[39;49m\u001b[43mviewshed_radius\u001b[49m\u001b[43m,\u001b[49m\n\u001b[1;32m     53\u001b[0m \u001b[43m                                                            \u001b[49m\u001b[43mthreads\u001b[49m\u001b[43m \u001b[49m\u001b[38;5;241;43m=\u001b[39;49m\u001b[43m \u001b[49m\u001b[38;5;28;43mself\u001b[39;49m\u001b[38;5;241;43m.\u001b[39;49m\u001b[43mthreads\u001b[49m\u001b[43m,\u001b[49m\n\u001b[1;32m     54\u001b[0m \u001b[43m                                                            \u001b[49m\u001b[43mmetadata_df\u001b[49m\u001b[43m \u001b[49m\u001b[38;5;241;43m=\u001b[39;49m\u001b[43m \u001b[49m\u001b[38;5;28;43mself\u001b[39;49m\u001b[38;5;241;43m.\u001b[39;49m\u001b[43mmetadata_df\u001b[49m\u001b[43m,\u001b[49m\n\u001b[1;32m     55\u001b[0m \u001b[43m                                                            \u001b[49m\u001b[43mobservation_name\u001b[49m\u001b[43m \u001b[49m\u001b[38;5;241;43m=\u001b[39;49m\u001b[43m \u001b[49m\u001b[43mobservation_name\u001b[49m\u001b[43m,\u001b[49m\n\u001b[1;32m     56\u001b[0m \u001b[43m                                                            \u001b[49m\u001b[43mrasters_dir\u001b[49m\u001b[43m \u001b[49m\u001b[38;5;241;43m=\u001b[39;49m\u001b[43m \u001b[49m\u001b[38;5;28;43mself\u001b[39;49m\u001b[38;5;241;43m.\u001b[39;49m\u001b[43mrasters_dir\u001b[49m\u001b[43m,\u001b[49m\n\u001b[1;32m     57\u001b[0m \u001b[43m                                                            \u001b[49m\u001b[43mviewshed_hw\u001b[49m\u001b[43m \u001b[49m\u001b[38;5;241;43m=\u001b[39;49m\u001b[43m \u001b[49m\u001b[38;5;28;43mself\u001b[39;49m\u001b[38;5;241;43m.\u001b[39;49m\u001b[43mviewshed_hw\u001b[49m\u001b[43m)\u001b[49m\n\u001b[1;32m     58\u001b[0m target_row[\u001b[38;5;124m'\u001b[39m\u001b[38;5;124mvisibility\u001b[39m\u001b[38;5;124m'\u001b[39m] \u001b[38;5;241m=\u001b[39m target_vis\n\u001b[1;32m     59\u001b[0m target_row[\u001b[38;5;124m'\u001b[39m\u001b[38;5;124mvis_array\u001b[39m\u001b[38;5;124m'\u001b[39m] \u001b[38;5;241m=\u001b[39m target_vis_array\n",
      "File \u001b[0;32m~/fine-scale-movement/notebooks/../stepselector/viewshed.py:41\u001b[0m, in \u001b[0;36mgenerate_downsample_viewshed\u001b[0;34m(data_row, radius, threads, metadata_df, observation_name, rasters_dir, viewshed_hw)\u001b[0m\n\u001b[1;32m     38\u001b[0m full_raster \u001b[38;5;241m=\u001b[39m \u001b[38;5;124m'\u001b[39m\u001b[38;5;124m/vsimem/\u001b[39m\u001b[38;5;124m'\u001b[39m \u001b[38;5;241m+\u001b[39m step_id \u001b[38;5;241m+\u001b[39m \u001b[38;5;124m'\u001b[39m\u001b[38;5;124m_tempraster.tif\u001b[39m\u001b[38;5;124m'\u001b[39m\n\u001b[1;32m     40\u001b[0m \u001b[38;5;66;03m# generate full-resolution viewshed (stored temporarily in memory)\u001b[39;00m\n\u001b[0;32m---> 41\u001b[0m \u001b[43mgenerate_viewshed\u001b[49m\u001b[43m(\u001b[49m\u001b[43mdsm\u001b[49m\u001b[43m,\u001b[49m\u001b[43m \u001b[49m\u001b[43mX\u001b[49m\u001b[43m,\u001b[49m\u001b[43m \u001b[49m\u001b[43mY\u001b[49m\u001b[43m,\u001b[49m\u001b[43m \u001b[49m\u001b[43mheight\u001b[49m\u001b[43m,\u001b[49m\u001b[43m \u001b[49m\u001b[43mfull_raster\u001b[49m\u001b[43m,\u001b[49m\u001b[43m \u001b[49m\u001b[43mradius\u001b[49m\u001b[43m,\u001b[49m\u001b[43m \u001b[49m\u001b[43mthreads\u001b[49m\u001b[43m)\u001b[49m\n\u001b[1;32m     43\u001b[0m \u001b[38;5;66;03m# load the full-resolution viewshed and calculate the proportion of pixels that are visible\u001b[39;00m\n\u001b[1;32m     44\u001b[0m vs \u001b[38;5;241m=\u001b[39m gdal\u001b[38;5;241m.\u001b[39mOpenEx(full_raster)\n",
      "File \u001b[0;32m~/fine-scale-movement/notebooks/../stepselector/viewshed.py:11\u001b[0m, in \u001b[0;36mgenerate_viewshed\u001b[0;34m(dsm_file, X, Y, height, targetRasterName, radius, threads)\u001b[0m\n\u001b[1;32m      8\u001b[0m srcBand \u001b[38;5;241m=\u001b[39m src_ds\u001b[38;5;241m.\u001b[39mGetRasterBand(\u001b[38;5;241m1\u001b[39m)\n\u001b[1;32m      9\u001b[0m c_options \u001b[38;5;241m=\u001b[39m [\u001b[38;5;124m'\u001b[39m\u001b[38;5;124mNUM_THREADS=\u001b[39m\u001b[38;5;132;01m%i\u001b[39;00m\u001b[38;5;124m'\u001b[39m \u001b[38;5;241m%\u001b[39mthreads]\n\u001b[0;32m---> 11\u001b[0m \u001b[43mgdal\u001b[49m\u001b[38;5;241;43m.\u001b[39;49m\u001b[43mViewshedGenerate\u001b[49m\u001b[43m(\u001b[49m\n\u001b[1;32m     12\u001b[0m \u001b[43m    \u001b[49m\u001b[43msrcBand\u001b[49m\u001b[38;5;241;43m=\u001b[39;49m\u001b[43msrcBand\u001b[49m\u001b[43m,\u001b[49m\n\u001b[1;32m     13\u001b[0m \u001b[43m    \u001b[49m\u001b[43mdriverName\u001b[49m\u001b[38;5;241;43m=\u001b[39;49m\u001b[38;5;124;43m\"\u001b[39;49m\u001b[38;5;124;43mGTIFF\u001b[39;49m\u001b[38;5;124;43m\"\u001b[39;49m\u001b[43m,\u001b[49m\n\u001b[1;32m     14\u001b[0m \u001b[43m    \u001b[49m\u001b[43mtargetRasterName\u001b[49m\u001b[38;5;241;43m=\u001b[39;49m\u001b[43mtargetRasterName\u001b[49m\u001b[43m,\u001b[49m\n\u001b[1;32m     15\u001b[0m \u001b[43m    \u001b[49m\u001b[43mcreationOptions\u001b[49m\u001b[38;5;241;43m=\u001b[39;49m\u001b[43mc_options\u001b[49m\u001b[43m,\u001b[49m\n\u001b[1;32m     16\u001b[0m \u001b[43m    \u001b[49m\u001b[43mobserverX\u001b[49m\u001b[38;5;241;43m=\u001b[39;49m\u001b[43mX\u001b[49m\u001b[43m,\u001b[49m\n\u001b[1;32m     17\u001b[0m \u001b[43m    \u001b[49m\u001b[43mobserverY\u001b[49m\u001b[38;5;241;43m=\u001b[39;49m\u001b[43mY\u001b[49m\u001b[43m,\u001b[49m\n\u001b[1;32m     18\u001b[0m \u001b[43m    \u001b[49m\u001b[43mobserverHeight\u001b[49m\u001b[38;5;241;43m=\u001b[39;49m\u001b[43mheight\u001b[49m\u001b[43m,\u001b[49m\n\u001b[1;32m     19\u001b[0m \u001b[43m    \u001b[49m\u001b[43mtargetHeight\u001b[49m\u001b[38;5;241;43m=\u001b[39;49m\u001b[38;5;241;43m0\u001b[39;49m\u001b[43m,\u001b[49m\n\u001b[1;32m     20\u001b[0m \u001b[43m    \u001b[49m\u001b[43mvisibleVal\u001b[49m\u001b[38;5;241;43m=\u001b[39;49m\u001b[38;5;241;43m1\u001b[39;49m\u001b[43m,\u001b[49m\n\u001b[1;32m     21\u001b[0m \u001b[43m    \u001b[49m\u001b[43minvisibleVal\u001b[49m\u001b[38;5;241;43m=\u001b[39;49m\u001b[38;5;241;43m0\u001b[39;49m\u001b[43m,\u001b[49m\n\u001b[1;32m     22\u001b[0m \u001b[43m    \u001b[49m\u001b[43moutOfRangeVal\u001b[49m\u001b[38;5;241;43m=\u001b[39;49m\u001b[38;5;241;43m-\u001b[39;49m\u001b[38;5;241;43m10000\u001b[39;49m\u001b[43m,\u001b[49m\n\u001b[1;32m     23\u001b[0m \u001b[43m    \u001b[49m\u001b[43mnoDataVal\u001b[49m\u001b[38;5;241;43m=\u001b[39;49m\u001b[38;5;241;43m-\u001b[39;49m\u001b[38;5;241;43m10000\u001b[39;49m\u001b[43m,\u001b[49m\n\u001b[1;32m     24\u001b[0m \u001b[43m    \u001b[49m\u001b[43mdfCurvCoeff\u001b[49m\u001b[38;5;241;43m=\u001b[39;49m\u001b[38;5;241;43m0.85714\u001b[39;49m\u001b[43m,\u001b[49m\n\u001b[1;32m     25\u001b[0m \u001b[43m    \u001b[49m\u001b[43mmode\u001b[49m\u001b[38;5;241;43m=\u001b[39;49m\u001b[38;5;241;43m1\u001b[39;49m\u001b[43m,\u001b[49m\n\u001b[1;32m     26\u001b[0m \u001b[43m    \u001b[49m\u001b[43mmaxDistance\u001b[49m\u001b[38;5;241;43m=\u001b[39;49m\u001b[43mradius\u001b[49m\n\u001b[1;32m     27\u001b[0m \u001b[43m\u001b[49m\u001b[43m)\u001b[49m\n\u001b[1;32m     28\u001b[0m src_ds \u001b[38;5;241m=\u001b[39m \u001b[38;5;28;01mNone\u001b[39;00m\n",
      "File \u001b[0;32m~/.local/lib/python3.10/site-packages/osgeo/gdal.py:8342\u001b[0m, in \u001b[0;36mViewshedGenerate\u001b[0;34m(*args, **kwargs)\u001b[0m\n\u001b[1;32m   8340\u001b[0m \u001b[38;5;28;01mdef\u001b[39;00m \u001b[38;5;21mViewshedGenerate\u001b[39m(\u001b[38;5;241m*\u001b[39margs, \u001b[38;5;241m*\u001b[39m\u001b[38;5;241m*\u001b[39mkwargs):\n\u001b[1;32m   8341\u001b[0m \u001b[38;5;250m    \u001b[39m\u001b[38;5;124mr\u001b[39m\u001b[38;5;124;03m\"\"\"ViewshedGenerate(Band srcBand, char const * driverName, char const * targetRasterName, char ** creationOptions, double observerX, double observerY, double observerHeight, double targetHeight, double visibleVal, double invisibleVal, double outOfRangeVal, double noDataVal, double dfCurvCoeff, GDALViewshedMode mode, double maxDistance, GDALProgressFunc callback=0, void * callback_data=None, GDALViewshedOutputType heightMode=GVOT_NORMAL, char ** options=None) -> Dataset\"\"\"\u001b[39;00m\n\u001b[0;32m-> 8342\u001b[0m     \u001b[38;5;28;01mreturn\u001b[39;00m \u001b[43m_gdal\u001b[49m\u001b[38;5;241;43m.\u001b[39;49m\u001b[43mViewshedGenerate\u001b[49m\u001b[43m(\u001b[49m\u001b[38;5;241;43m*\u001b[39;49m\u001b[43margs\u001b[49m\u001b[43m,\u001b[49m\u001b[43m \u001b[49m\u001b[38;5;241;43m*\u001b[39;49m\u001b[38;5;241;43m*\u001b[39;49m\u001b[43mkwargs\u001b[49m\u001b[43m)\u001b[49m\n",
      "\u001b[0;31mKeyboardInterrupt\u001b[0m: "
     ]
    }
   ],
   "source": [
    "for batch in dataloader:\n",
    "    target, references = batch\n",
    "    print(f\"Target: {target}\")\n",
    "    print(f\"References: {references}\")\n",
    "    "
   ]
  },
  {
   "cell_type": "code",
   "execution_count": null,
   "id": "2872dd4e-1e69-46b1-abaa-998811195418",
   "metadata": {},
   "outputs": [],
   "source": []
  }
 ],
 "metadata": {
  "kernelspec": {
   "display_name": "Python (GDAL 3.9.0)",
   "language": "python",
   "name": "gdal390"
  },
  "language_info": {
   "codemirror_mode": {
    "name": "ipython",
    "version": 3
   },
   "file_extension": ".py",
   "mimetype": "text/x-python",
   "name": "python",
   "nbconvert_exporter": "python",
   "pygments_lexer": "ipython3",
   "version": "3.10.12"
  }
 },
 "nbformat": 4,
 "nbformat_minor": 5
}
